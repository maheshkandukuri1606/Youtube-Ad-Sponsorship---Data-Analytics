{
  "nbformat": 4,
  "nbformat_minor": 0,
  "metadata": {
    "colab": {
      "name": "NLP_YouTube.ipynb",
      "provenance": [],
      "collapsed_sections": [],
      "authorship_tag": "ABX9TyPr1g+7ff8/npPEEqOnHftF",
      "include_colab_link": true
    },
    "kernelspec": {
      "name": "python3",
      "display_name": "Python 3"
    }
  },
  "cells": [
    {
      "cell_type": "markdown",
      "metadata": {
        "id": "view-in-github",
        "colab_type": "text"
      },
      "source": [
        "<a href=\"https://colab.research.google.com/github/rakesh-choudhury/dump/blob/master/NLP_YouTube.ipynb\" target=\"_parent\"><img src=\"https://colab.research.google.com/assets/colab-badge.svg\" alt=\"Open In Colab\"/></a>"
      ]
    },
    {
      "cell_type": "code",
      "metadata": {
        "id": "rY5wjuRBWfuh",
        "colab_type": "code",
        "outputId": "5382b831-967d-4aef-fd45-f4b1d2342e1b",
        "colab": {
          "base_uri": "https://localhost:8080/",
          "height": 394
        }
      },
      "source": [
        "!pip install pyldavis"
      ],
      "execution_count": 0,
      "outputs": [
        {
          "output_type": "stream",
          "text": [
            "Requirement already satisfied: pyldavis in /usr/local/lib/python3.6/dist-packages (2.1.2)\n",
            "Requirement already satisfied: numexpr in /usr/local/lib/python3.6/dist-packages (from pyldavis) (2.7.1)\n",
            "Requirement already satisfied: pandas>=0.17.0 in /usr/local/lib/python3.6/dist-packages (from pyldavis) (1.0.3)\n",
            "Requirement already satisfied: funcy in /usr/local/lib/python3.6/dist-packages (from pyldavis) (1.14)\n",
            "Requirement already satisfied: jinja2>=2.7.2 in /usr/local/lib/python3.6/dist-packages (from pyldavis) (2.11.2)\n",
            "Requirement already satisfied: wheel>=0.23.0 in /usr/local/lib/python3.6/dist-packages (from pyldavis) (0.34.2)\n",
            "Requirement already satisfied: scipy>=0.18.0 in /usr/local/lib/python3.6/dist-packages (from pyldavis) (1.4.1)\n",
            "Requirement already satisfied: future in /usr/local/lib/python3.6/dist-packages (from pyldavis) (0.16.0)\n",
            "Requirement already satisfied: joblib>=0.8.4 in /usr/local/lib/python3.6/dist-packages (from pyldavis) (0.14.1)\n",
            "Requirement already satisfied: pytest in /usr/local/lib/python3.6/dist-packages (from pyldavis) (3.6.4)\n",
            "Requirement already satisfied: numpy>=1.9.2 in /usr/local/lib/python3.6/dist-packages (from pyldavis) (1.18.2)\n",
            "Requirement already satisfied: pytz>=2017.2 in /usr/local/lib/python3.6/dist-packages (from pandas>=0.17.0->pyldavis) (2018.9)\n",
            "Requirement already satisfied: python-dateutil>=2.6.1 in /usr/local/lib/python3.6/dist-packages (from pandas>=0.17.0->pyldavis) (2.8.1)\n",
            "Requirement already satisfied: MarkupSafe>=0.23 in /usr/local/lib/python3.6/dist-packages (from jinja2>=2.7.2->pyldavis) (1.1.1)\n",
            "Requirement already satisfied: six>=1.10.0 in /usr/local/lib/python3.6/dist-packages (from pytest->pyldavis) (1.12.0)\n",
            "Requirement already satisfied: pluggy<0.8,>=0.5 in /usr/local/lib/python3.6/dist-packages (from pytest->pyldavis) (0.7.1)\n",
            "Requirement already satisfied: setuptools in /usr/local/lib/python3.6/dist-packages (from pytest->pyldavis) (46.1.3)\n",
            "Requirement already satisfied: atomicwrites>=1.0 in /usr/local/lib/python3.6/dist-packages (from pytest->pyldavis) (1.3.0)\n",
            "Requirement already satisfied: py>=1.5.0 in /usr/local/lib/python3.6/dist-packages (from pytest->pyldavis) (1.8.1)\n",
            "Requirement already satisfied: more-itertools>=4.0.0 in /usr/local/lib/python3.6/dist-packages (from pytest->pyldavis) (8.2.0)\n",
            "Requirement already satisfied: attrs>=17.4.0 in /usr/local/lib/python3.6/dist-packages (from pytest->pyldavis) (19.3.0)\n"
          ],
          "name": "stdout"
        }
      ]
    },
    {
      "cell_type": "code",
      "metadata": {
        "id": "35EG-KPgWwJN",
        "colab_type": "code",
        "outputId": "5b4f781d-071d-4996-f6cf-e517827cfad3",
        "colab": {
          "base_uri": "https://localhost:8080/",
          "height": 565
        }
      },
      "source": [
        "!pip install lime"
      ],
      "execution_count": 0,
      "outputs": [
        {
          "output_type": "stream",
          "text": [
            "Requirement already satisfied: lime in /usr/local/lib/python3.6/dist-packages (0.2.0.0)\n",
            "Requirement already satisfied: scikit-learn>=0.18 in /usr/local/lib/python3.6/dist-packages (from lime) (0.22.2.post1)\n",
            "Requirement already satisfied: tqdm in /usr/local/lib/python3.6/dist-packages (from lime) (4.38.0)\n",
            "Collecting pillow==5.4.1\n",
            "  Using cached https://files.pythonhosted.org/packages/85/5e/e91792f198bbc5a0d7d3055ad552bc4062942d27eaf75c3e2783cf64eae5/Pillow-5.4.1-cp36-cp36m-manylinux1_x86_64.whl\n",
            "Requirement already satisfied: scikit-image>=0.12 in /usr/local/lib/python3.6/dist-packages (from lime) (0.16.2)\n",
            "Requirement already satisfied: numpy in /usr/local/lib/python3.6/dist-packages (from lime) (1.18.2)\n",
            "Requirement already satisfied: scipy in /usr/local/lib/python3.6/dist-packages (from lime) (1.4.1)\n",
            "Requirement already satisfied: matplotlib in /usr/local/lib/python3.6/dist-packages (from lime) (3.2.1)\n",
            "Requirement already satisfied: joblib>=0.11 in /usr/local/lib/python3.6/dist-packages (from scikit-learn>=0.18->lime) (0.14.1)\n",
            "Requirement already satisfied: networkx>=2.0 in /usr/local/lib/python3.6/dist-packages (from scikit-image>=0.12->lime) (2.4)\n",
            "Requirement already satisfied: PyWavelets>=0.4.0 in /usr/local/lib/python3.6/dist-packages (from scikit-image>=0.12->lime) (1.1.1)\n",
            "Requirement already satisfied: imageio>=2.3.0 in /usr/local/lib/python3.6/dist-packages (from scikit-image>=0.12->lime) (2.4.1)\n",
            "Requirement already satisfied: kiwisolver>=1.0.1 in /usr/local/lib/python3.6/dist-packages (from matplotlib->lime) (1.2.0)\n",
            "Requirement already satisfied: pyparsing!=2.0.4,!=2.1.2,!=2.1.6,>=2.0.1 in /usr/local/lib/python3.6/dist-packages (from matplotlib->lime) (2.4.7)\n",
            "Requirement already satisfied: python-dateutil>=2.1 in /usr/local/lib/python3.6/dist-packages (from matplotlib->lime) (2.8.1)\n",
            "Requirement already satisfied: cycler>=0.10 in /usr/local/lib/python3.6/dist-packages (from matplotlib->lime) (0.10.0)\n",
            "Requirement already satisfied: decorator>=4.3.0 in /usr/local/lib/python3.6/dist-packages (from networkx>=2.0->scikit-image>=0.12->lime) (4.4.2)\n",
            "Requirement already satisfied: six>=1.5 in /usr/local/lib/python3.6/dist-packages (from python-dateutil>=2.1->matplotlib->lime) (1.12.0)\n",
            "\u001b[31mERROR: streamlit 0.57.3 has requirement pillow>=6.2.0, but you'll have pillow 5.4.1 which is incompatible.\u001b[0m\n",
            "\u001b[31mERROR: albumentations 0.1.12 has requirement imgaug<0.2.7,>=0.2.5, but you'll have imgaug 0.2.9 which is incompatible.\u001b[0m\n",
            "Installing collected packages: pillow\n",
            "  Found existing installation: Pillow 7.1.1\n",
            "    Uninstalling Pillow-7.1.1:\n",
            "      Successfully uninstalled Pillow-7.1.1\n",
            "Successfully installed pillow-5.4.1\n"
          ],
          "name": "stdout"
        },
        {
          "output_type": "display_data",
          "data": {
            "application/vnd.colab-display-data+json": {
              "pip_warning": {
                "packages": [
                  "PIL"
                ]
              }
            }
          },
          "metadata": {
            "tags": []
          }
        }
      ]
    },
    {
      "cell_type": "code",
      "metadata": {
        "id": "Y-sKtBqLNpzQ",
        "colab_type": "code",
        "outputId": "7f28c87a-3cb4-4822-d798-61e1ecc47295",
        "colab": {
          "base_uri": "https://localhost:8080/",
          "height": 190
        }
      },
      "source": [
        "!pip install chart_studio"
      ],
      "execution_count": 0,
      "outputs": [
        {
          "output_type": "stream",
          "text": [
            "Requirement already satisfied: chart_studio in /usr/local/lib/python3.6/dist-packages (1.1.0)\n",
            "Requirement already satisfied: six in /usr/local/lib/python3.6/dist-packages (from chart_studio) (1.12.0)\n",
            "Requirement already satisfied: plotly in /usr/local/lib/python3.6/dist-packages (from chart_studio) (4.4.1)\n",
            "Requirement already satisfied: retrying>=1.3.3 in /usr/local/lib/python3.6/dist-packages (from chart_studio) (1.3.3)\n",
            "Requirement already satisfied: requests in /usr/local/lib/python3.6/dist-packages (from chart_studio) (2.21.0)\n",
            "Requirement already satisfied: certifi>=2017.4.17 in /usr/local/lib/python3.6/dist-packages (from requests->chart_studio) (2020.4.5.1)\n",
            "Requirement already satisfied: idna<2.9,>=2.5 in /usr/local/lib/python3.6/dist-packages (from requests->chart_studio) (2.8)\n",
            "Requirement already satisfied: urllib3<1.25,>=1.21.1 in /usr/local/lib/python3.6/dist-packages (from requests->chart_studio) (1.24.3)\n",
            "Requirement already satisfied: chardet<3.1.0,>=3.0.2 in /usr/local/lib/python3.6/dist-packages (from requests->chart_studio) (3.0.4)\n"
          ],
          "name": "stdout"
        }
      ]
    },
    {
      "cell_type": "code",
      "metadata": {
        "id": "Vm3sFQdFvSaM",
        "colab_type": "code",
        "outputId": "fa7db98d-eea3-4fb7-f63e-ad84591944c8",
        "colab": {
          "base_uri": "https://localhost:8080/",
          "height": 68
        }
      },
      "source": [
        "nltk.download('vader_lexicon')"
      ],
      "execution_count": 0,
      "outputs": [
        {
          "output_type": "stream",
          "text": [
            "[nltk_data] Downloading package vader_lexicon to /root/nltk_data...\n",
            "[nltk_data]   Package vader_lexicon is already up-to-date!\n"
          ],
          "name": "stdout"
        },
        {
          "output_type": "execute_result",
          "data": {
            "text/plain": [
              "True"
            ]
          },
          "metadata": {
            "tags": []
          },
          "execution_count": 117
        }
      ]
    },
    {
      "cell_type": "code",
      "metadata": {
        "id": "n7rOcF0JWzS-",
        "colab_type": "code",
        "colab": {}
      },
      "source": [
        "import numpy as np # linear algebra\n",
        "import pandas as pd # data processing, CSV file I/O (e.g. pd.read_csv)\n",
        "import os\n",
        "from IPython.core.interactiveshell import InteractiveShell\n",
        "InteractiveShell.ast_node_interactivity = \"all\"\n",
        "import math\n",
        "import json\n",
        "import time\n",
        "import matplotlib.pyplot as plt\n",
        "import seaborn as sns\n",
        "from sklearn.metrics.pairwise import cosine_similarity\n",
        "from sklearn.model_selection import train_test_split\n",
        "from sklearn.neighbors import NearestNeighbors\n",
        "from sklearn.externals import joblib\n",
        "import scipy.sparse\n",
        "from scipy.sparse import csr_matrix\n",
        "from scipy.sparse.linalg import svds\n",
        "import warnings; warnings.simplefilter('ignore')\n",
        "import random\n",
        "%matplotlib inline\n",
        "\n",
        "\n",
        "\n",
        "plt.style.use('ggplot')\n",
        "import seaborn as sns\n",
        "%matplotlib notebook\n",
        "\n",
        "import seaborn as sns\n",
        "from sklearn.feature_extraction.text import TfidfVectorizer, CountVectorizer\n",
        "from sklearn.ensemble import RandomForestClassifier\n",
        "from sklearn.model_selection import train_test_split,GridSearchCV\n",
        "from sklearn.linear_model import LogisticRegression\n",
        "from sklearn.pipeline import make_pipeline\n",
        "\n",
        "\n",
        "from lime.lime_text import LimeTextExplainer\n",
        "from tqdm import tqdm\n",
        "import string\n",
        "import random\n",
        "import operator\n",
        "import seaborn as sns\n",
        "from sklearn.decomposition import NMF, LatentDirichletAllocation, TruncatedSVD\n",
        "from statistics import *\n",
        "import concurrent.futures\n",
        "import time\n",
        "import pyLDAvis.sklearn\n",
        "from pylab import bone, pcolor, colorbar, plot, show, rcParams, savefig\n",
        "import warnings\n",
        "import nltk\n",
        "from sklearn.utils import shuffle\n",
        "\n",
        "\n",
        "# spaCy based imports\n",
        "import spacy\n",
        "from spacy.lang.en.stop_words import STOP_WORDS\n",
        "from spacy.lang.en import English\n",
        "\n"
      ],
      "execution_count": 0,
      "outputs": []
    },
    {
      "cell_type": "code",
      "metadata": {
        "id": "wgubbWNZNT_n",
        "colab_type": "code",
        "colab": {}
      },
      "source": [
        "import cufflinks as cf\n",
        "import plotly\n",
        "import plotly.offline as py\n",
        "import plotly.graph_objs as go"
      ],
      "execution_count": 0,
      "outputs": []
    },
    {
      "cell_type": "code",
      "metadata": {
        "id": "RrYK4LI3W4qH",
        "colab_type": "code",
        "outputId": "c3dbed5e-35ba-4721-e53d-573ff811b99a",
        "colab": {
          "base_uri": "https://localhost:8080/",
          "height": 54
        }
      },
      "source": [
        "from google.colab import drive\n",
        "drive.mount('/content/drive')"
      ],
      "execution_count": 0,
      "outputs": [
        {
          "output_type": "stream",
          "text": [
            "Drive already mounted at /content/drive; to attempt to forcibly remount, call drive.mount(\"/content/drive\", force_remount=True).\n"
          ],
          "name": "stdout"
        }
      ]
    },
    {
      "cell_type": "code",
      "metadata": {
        "id": "0Ut7PjFKXkZu",
        "colab_type": "code",
        "colab": {}
      },
      "source": [
        "youtube = pd.read_csv('/content/drive/My Drive/Datasets/Final_YouTube_Dataset/YouTube.csv')"
      ],
      "execution_count": 0,
      "outputs": []
    },
    {
      "cell_type": "code",
      "metadata": {
        "id": "sK_-ENFoXkX6",
        "colab_type": "code",
        "outputId": "82fb752b-bddf-40da-a628-0bbfe7a41371",
        "colab": {
          "base_uri": "https://localhost:8080/",
          "height": 1000
        }
      },
      "source": [
        "youtube.head(70)"
      ],
      "execution_count": 0,
      "outputs": [
        {
          "output_type": "execute_result",
          "data": {
            "text/html": [
              "<div>\n",
              "<style scoped>\n",
              "    .dataframe tbody tr th:only-of-type {\n",
              "        vertical-align: middle;\n",
              "    }\n",
              "\n",
              "    .dataframe tbody tr th {\n",
              "        vertical-align: top;\n",
              "    }\n",
              "\n",
              "    .dataframe thead th {\n",
              "        text-align: right;\n",
              "    }\n",
              "</style>\n",
              "<table border=\"1\" class=\"dataframe\">\n",
              "  <thead>\n",
              "    <tr style=\"text-align: right;\">\n",
              "      <th></th>\n",
              "      <th>Unnamed: 0</th>\n",
              "      <th>Unnamed: 0.1</th>\n",
              "      <th>Unnamed: 0.1.1</th>\n",
              "      <th>video_id</th>\n",
              "      <th>trending_date</th>\n",
              "      <th>title</th>\n",
              "      <th>channel_title</th>\n",
              "      <th>category_id</th>\n",
              "      <th>publish_time</th>\n",
              "      <th>tags</th>\n",
              "      <th>views</th>\n",
              "      <th>likes</th>\n",
              "      <th>dislikes</th>\n",
              "      <th>comment_count</th>\n",
              "      <th>thumbnail_link</th>\n",
              "      <th>comments_disabled</th>\n",
              "      <th>ratings_disabled</th>\n",
              "      <th>video_error_or_removed</th>\n",
              "      <th>Country</th>\n",
              "      <th>Category</th>\n",
              "      <th>like_percentage</th>\n",
              "      <th>popular</th>\n",
              "      <th>tags_clean</th>\n",
              "      <th>sent_score</th>\n",
              "    </tr>\n",
              "  </thead>\n",
              "  <tbody>\n",
              "    <tr>\n",
              "      <th>0</th>\n",
              "      <td>0</td>\n",
              "      <td>0</td>\n",
              "      <td>0</td>\n",
              "      <td>n1WpP7iowLc</td>\n",
              "      <td>17.14.11</td>\n",
              "      <td>Eminem - Walk On Water (Audio) ft. Beyoncé</td>\n",
              "      <td>EminemVEVO</td>\n",
              "      <td>10.0</td>\n",
              "      <td>2017-11-10 17:00:03+00:00</td>\n",
              "      <td>Eminem|\"Walk\"|\"On\"|\"Water\"|\"Aftermath/Shady/In...</td>\n",
              "      <td>17158579.0</td>\n",
              "      <td>787425.0</td>\n",
              "      <td>43420.0</td>\n",
              "      <td>125882.0</td>\n",
              "      <td>https://i.ytimg.com/vi/n1WpP7iowLc/default.jpg</td>\n",
              "      <td>False</td>\n",
              "      <td>False</td>\n",
              "      <td>False</td>\n",
              "      <td>Cannada</td>\n",
              "      <td>Music_videos</td>\n",
              "      <td>94.773995</td>\n",
              "      <td>1</td>\n",
              "      <td>Eminem Walk On Water Aftermath Shady Interscop...</td>\n",
              "      <td>0.0</td>\n",
              "    </tr>\n",
              "    <tr>\n",
              "      <th>1</th>\n",
              "      <td>1</td>\n",
              "      <td>1</td>\n",
              "      <td>1</td>\n",
              "      <td>0dBIkQ4Mz1M</td>\n",
              "      <td>17.14.11</td>\n",
              "      <td>PLUSH - Bad Unboxing Fan Mail</td>\n",
              "      <td>iDubbbzTV</td>\n",
              "      <td>23.0</td>\n",
              "      <td>2017-11-13 17:00:00+00:00</td>\n",
              "      <td>plush|\"bad unboxing\"|\"unboxing\"|\"fan mail\"|\"id...</td>\n",
              "      <td>1014651.0</td>\n",
              "      <td>127794.0</td>\n",
              "      <td>1688.0</td>\n",
              "      <td>13030.0</td>\n",
              "      <td>https://i.ytimg.com/vi/0dBIkQ4Mz1M/default.jpg</td>\n",
              "      <td>False</td>\n",
              "      <td>False</td>\n",
              "      <td>False</td>\n",
              "      <td>Cannada</td>\n",
              "      <td>Pranks</td>\n",
              "      <td>98.696344</td>\n",
              "      <td>0</td>\n",
              "      <td>plush bad unboxing unboxing fan mail idubbbztv...</td>\n",
              "      <td>0.5</td>\n",
              "    </tr>\n",
              "    <tr>\n",
              "      <th>2</th>\n",
              "      <td>2</td>\n",
              "      <td>2</td>\n",
              "      <td>2</td>\n",
              "      <td>5qpjK5DgCt4</td>\n",
              "      <td>17.14.11</td>\n",
              "      <td>Racist Superman | Rudy Mancuso, King Bach &amp; Le...</td>\n",
              "      <td>Rudy Mancuso</td>\n",
              "      <td>23.0</td>\n",
              "      <td>2017-11-12 19:05:24+00:00</td>\n",
              "      <td>racist superman|\"rudy\"|\"mancuso\"|\"king\"|\"bach\"...</td>\n",
              "      <td>3191434.0</td>\n",
              "      <td>146035.0</td>\n",
              "      <td>5339.0</td>\n",
              "      <td>8181.0</td>\n",
              "      <td>https://i.ytimg.com/vi/5qpjK5DgCt4/default.jpg</td>\n",
              "      <td>False</td>\n",
              "      <td>False</td>\n",
              "      <td>False</td>\n",
              "      <td>Cannada</td>\n",
              "      <td>Pranks</td>\n",
              "      <td>96.472974</td>\n",
              "      <td>1</td>\n",
              "      <td>racist superman rudy mancuso king bach racist ...</td>\n",
              "      <td>-0.6</td>\n",
              "    </tr>\n",
              "    <tr>\n",
              "      <th>3</th>\n",
              "      <td>3</td>\n",
              "      <td>3</td>\n",
              "      <td>3</td>\n",
              "      <td>d380meD0W0M</td>\n",
              "      <td>17.14.11</td>\n",
              "      <td>I Dare You: GOING BALD!?</td>\n",
              "      <td>nigahiga</td>\n",
              "      <td>24.0</td>\n",
              "      <td>2017-11-12 18:01:41+00:00</td>\n",
              "      <td>ryan|\"higa\"|\"higatv\"|\"nigahiga\"|\"i dare you\"|\"...</td>\n",
              "      <td>2095828.0</td>\n",
              "      <td>132239.0</td>\n",
              "      <td>1989.0</td>\n",
              "      <td>17518.0</td>\n",
              "      <td>https://i.ytimg.com/vi/d380meD0W0M/default.jpg</td>\n",
              "      <td>False</td>\n",
              "      <td>False</td>\n",
              "      <td>False</td>\n",
              "      <td>Cannada</td>\n",
              "      <td>Youtube_Celebrities</td>\n",
              "      <td>98.518193</td>\n",
              "      <td>1</td>\n",
              "      <td>ryan higa higatv nigahiga i dare you idy rhpc ...</td>\n",
              "      <td>-0.3</td>\n",
              "    </tr>\n",
              "    <tr>\n",
              "      <th>4</th>\n",
              "      <td>4</td>\n",
              "      <td>4</td>\n",
              "      <td>4</td>\n",
              "      <td>2Vv-BfVoq4g</td>\n",
              "      <td>17.14.11</td>\n",
              "      <td>Ed Sheeran - Perfect (Official Music Video)</td>\n",
              "      <td>Ed Sheeran</td>\n",
              "      <td>10.0</td>\n",
              "      <td>2017-11-09 11:04:14+00:00</td>\n",
              "      <td>edsheeran|\"ed sheeran\"|\"acoustic\"|\"live\"|\"cove...</td>\n",
              "      <td>33523622.0</td>\n",
              "      <td>1634130.0</td>\n",
              "      <td>21082.0</td>\n",
              "      <td>85067.0</td>\n",
              "      <td>https://i.ytimg.com/vi/2Vv-BfVoq4g/default.jpg</td>\n",
              "      <td>False</td>\n",
              "      <td>False</td>\n",
              "      <td>False</td>\n",
              "      <td>Cannada</td>\n",
              "      <td>Music_videos</td>\n",
              "      <td>98.726326</td>\n",
              "      <td>1</td>\n",
              "      <td>edsheeran ed sheeran acoustic live cover offic...</td>\n",
              "      <td>0.0</td>\n",
              "    </tr>\n",
              "    <tr>\n",
              "      <th>...</th>\n",
              "      <td>...</td>\n",
              "      <td>...</td>\n",
              "      <td>...</td>\n",
              "      <td>...</td>\n",
              "      <td>...</td>\n",
              "      <td>...</td>\n",
              "      <td>...</td>\n",
              "      <td>...</td>\n",
              "      <td>...</td>\n",
              "      <td>...</td>\n",
              "      <td>...</td>\n",
              "      <td>...</td>\n",
              "      <td>...</td>\n",
              "      <td>...</td>\n",
              "      <td>...</td>\n",
              "      <td>...</td>\n",
              "      <td>...</td>\n",
              "      <td>...</td>\n",
              "      <td>...</td>\n",
              "      <td>...</td>\n",
              "      <td>...</td>\n",
              "      <td>...</td>\n",
              "      <td>...</td>\n",
              "      <td>...</td>\n",
              "    </tr>\n",
              "    <tr>\n",
              "      <th>65</th>\n",
              "      <td>65</td>\n",
              "      <td>65</td>\n",
              "      <td>65</td>\n",
              "      <td>xfmqmmBTRXw</td>\n",
              "      <td>17.14.11</td>\n",
              "      <td>24 Oras November 13 2017</td>\n",
              "      <td>24 Oras News Today</td>\n",
              "      <td>22.0</td>\n",
              "      <td>2017-11-12 19:00:07+00:00</td>\n",
              "      <td>24 Oras November 13 2017|\"24 Oras\"|\"24 Oras Ne...</td>\n",
              "      <td>137210.0</td>\n",
              "      <td>381.0</td>\n",
              "      <td>105.0</td>\n",
              "      <td>156.0</td>\n",
              "      <td>https://i.ytimg.com/vi/xfmqmmBTRXw/default.jpg</td>\n",
              "      <td>False</td>\n",
              "      <td>False</td>\n",
              "      <td>False</td>\n",
              "      <td>Cannada</td>\n",
              "      <td>Shows_Reviews</td>\n",
              "      <td>78.395062</td>\n",
              "      <td>0</td>\n",
              "      <td>24 Oras November 13 2017 24 Oras 24 Oras News ...</td>\n",
              "      <td>0.0</td>\n",
              "    </tr>\n",
              "    <tr>\n",
              "      <th>66</th>\n",
              "      <td>66</td>\n",
              "      <td>66</td>\n",
              "      <td>66</td>\n",
              "      <td>PV8maMvPqhw</td>\n",
              "      <td>17.14.11</td>\n",
              "      <td>AMAZING Street Food  in CHINA | RARELY SEEN St...</td>\n",
              "      <td>The Food Ranger</td>\n",
              "      <td>19.0</td>\n",
              "      <td>2017-11-11 17:00:03+00:00</td>\n",
              "      <td>the food ranger|\"trevor james\"|\"food ranger\"|\"...</td>\n",
              "      <td>325851.0</td>\n",
              "      <td>8998.0</td>\n",
              "      <td>185.0</td>\n",
              "      <td>1272.0</td>\n",
              "      <td>https://i.ytimg.com/vi/PV8maMvPqhw/default.jpg</td>\n",
              "      <td>False</td>\n",
              "      <td>False</td>\n",
              "      <td>False</td>\n",
              "      <td>Cannada</td>\n",
              "      <td>Food</td>\n",
              "      <td>97.985408</td>\n",
              "      <td>0</td>\n",
              "      <td>the food ranger trevor james food ranger food ...</td>\n",
              "      <td>0.9</td>\n",
              "    </tr>\n",
              "    <tr>\n",
              "      <th>67</th>\n",
              "      <td>67</td>\n",
              "      <td>68</td>\n",
              "      <td>68</td>\n",
              "      <td>3zjhB7NYQyg</td>\n",
              "      <td>17.14.11</td>\n",
              "      <td>Let's Play - Civic Doodle with Tim Gettys</td>\n",
              "      <td>LetsPlay</td>\n",
              "      <td>20.0</td>\n",
              "      <td>2017-11-11 15:00:00+00:00</td>\n",
              "      <td>Achievement Hunter|\"AH\"|\"video game\"|\"gaming\"|...</td>\n",
              "      <td>274190.0</td>\n",
              "      <td>6303.0</td>\n",
              "      <td>266.0</td>\n",
              "      <td>368.0</td>\n",
              "      <td>https://i.ytimg.com/vi/3zjhB7NYQyg/default.jpg</td>\n",
              "      <td>False</td>\n",
              "      <td>False</td>\n",
              "      <td>False</td>\n",
              "      <td>Cannada</td>\n",
              "      <td>Video_Games</td>\n",
              "      <td>95.950677</td>\n",
              "      <td>0</td>\n",
              "      <td>Achievement Hunter AH video game gaming game g...</td>\n",
              "      <td>1.0</td>\n",
              "    </tr>\n",
              "    <tr>\n",
              "      <th>68</th>\n",
              "      <td>68</td>\n",
              "      <td>69</td>\n",
              "      <td>69</td>\n",
              "      <td>F5mzb086QM8</td>\n",
              "      <td>17.14.11</td>\n",
              "      <td>Secrets of Dairy: Larson Dairy Farm</td>\n",
              "      <td>The Secrets of Dairy</td>\n",
              "      <td>22.0</td>\n",
              "      <td>2017-11-09 22:15:58+00:00</td>\n",
              "      <td>secrets of dairy|\"larson dairy farms\"|\"publix\"...</td>\n",
              "      <td>29234.0</td>\n",
              "      <td>37.0</td>\n",
              "      <td>65.0</td>\n",
              "      <td>62.0</td>\n",
              "      <td>https://i.ytimg.com/vi/F5mzb086QM8/default.jpg</td>\n",
              "      <td>False</td>\n",
              "      <td>False</td>\n",
              "      <td>False</td>\n",
              "      <td>Cannada</td>\n",
              "      <td>Shows_Reviews</td>\n",
              "      <td>36.274510</td>\n",
              "      <td>0</td>\n",
              "      <td>secrets of dairy larson dairy farms publix pla...</td>\n",
              "      <td>0.0</td>\n",
              "    </tr>\n",
              "    <tr>\n",
              "      <th>69</th>\n",
              "      <td>69</td>\n",
              "      <td>70</td>\n",
              "      <td>70</td>\n",
              "      <td>TIvI07xLPnA</td>\n",
              "      <td>17.14.11</td>\n",
              "      <td>The National for Sunday, November 12, 2017</td>\n",
              "      <td>The National</td>\n",
              "      <td>25.0</td>\n",
              "      <td>2017-11-13 03:06:10+00:00</td>\n",
              "      <td>Canada|\"CBC\"|\"CBC News\"|\"National\"|\"News\"|\"The...</td>\n",
              "      <td>13433.0</td>\n",
              "      <td>74.0</td>\n",
              "      <td>57.0</td>\n",
              "      <td>0.0</td>\n",
              "      <td>https://i.ytimg.com/vi/TIvI07xLPnA/default.jpg</td>\n",
              "      <td>True</td>\n",
              "      <td>False</td>\n",
              "      <td>False</td>\n",
              "      <td>Cannada</td>\n",
              "      <td>News</td>\n",
              "      <td>56.488550</td>\n",
              "      <td>0</td>\n",
              "      <td>Canada CBC CBC News National News The National...</td>\n",
              "      <td>0.0</td>\n",
              "    </tr>\n",
              "  </tbody>\n",
              "</table>\n",
              "<p>70 rows × 24 columns</p>\n",
              "</div>"
            ],
            "text/plain": [
              "    Unnamed: 0  ...  sent_score\n",
              "0            0  ...         0.0\n",
              "1            1  ...         0.5\n",
              "2            2  ...        -0.6\n",
              "3            3  ...        -0.3\n",
              "4            4  ...         0.0\n",
              "..         ...  ...         ...\n",
              "65          65  ...         0.0\n",
              "66          66  ...         0.9\n",
              "67          67  ...         1.0\n",
              "68          68  ...         0.0\n",
              "69          69  ...         0.0\n",
              "\n",
              "[70 rows x 24 columns]"
            ]
          },
          "metadata": {
            "tags": []
          },
          "execution_count": 8
        }
      ]
    },
    {
      "cell_type": "code",
      "metadata": {
        "id": "OAYGDNejXkU2",
        "colab_type": "code",
        "outputId": "0f264f31-287e-49f9-b17f-b84c1610ae6c",
        "colab": {
          "base_uri": "https://localhost:8080/",
          "height": 442
        }
      },
      "source": [
        "youtube.isnull().sum()"
      ],
      "execution_count": 0,
      "outputs": [
        {
          "output_type": "execute_result",
          "data": {
            "text/plain": [
              "Unnamed: 0                0\n",
              "Unnamed: 0.1              0\n",
              "Unnamed: 0.1.1            0\n",
              "video_id                  0\n",
              "trending_date             0\n",
              "title                     0\n",
              "channel_title             0\n",
              "category_id               0\n",
              "publish_time              0\n",
              "tags                      0\n",
              "views                     0\n",
              "likes                     0\n",
              "dislikes                  0\n",
              "comment_count             0\n",
              "thumbnail_link            0\n",
              "comments_disabled         0\n",
              "ratings_disabled          0\n",
              "video_error_or_removed    0\n",
              "Country                   0\n",
              "Category                  0\n",
              "like_percentage           0\n",
              "popular                   0\n",
              "tags_clean                0\n",
              "sent_score                0\n",
              "dtype: int64"
            ]
          },
          "metadata": {
            "tags": []
          },
          "execution_count": 9
        }
      ]
    },
    {
      "cell_type": "code",
      "metadata": {
        "id": "w7SZ6RNEXkSx",
        "colab_type": "code",
        "colab": {}
      },
      "source": [
        "youtube = youtube.dropna()"
      ],
      "execution_count": 0,
      "outputs": []
    },
    {
      "cell_type": "code",
      "metadata": {
        "id": "2EjeWLcPEZqb",
        "colab_type": "code",
        "colab": {}
      },
      "source": [
        "youtube.to_csv('YouTube.csv')"
      ],
      "execution_count": 0,
      "outputs": []
    },
    {
      "cell_type": "code",
      "metadata": {
        "id": "6xEsH061Ehms",
        "colab_type": "code",
        "colab": {}
      },
      "source": [
        "!cp YouTube.csv \"/content/drive/My Drive/Datasets/Final_YouTube_Dataset\""
      ],
      "execution_count": 0,
      "outputs": []
    },
    {
      "cell_type": "code",
      "metadata": {
        "id": "z1sau3KZXkQb",
        "colab_type": "code",
        "outputId": "c0a2d9d7-6e2a-4fe5-8e38-f9570a74f63e",
        "colab": {
          "base_uri": "https://localhost:8080/",
          "height": 297
        }
      },
      "source": [
        "youtube.describe()"
      ],
      "execution_count": 0,
      "outputs": [
        {
          "output_type": "execute_result",
          "data": {
            "text/html": [
              "<div>\n",
              "<style scoped>\n",
              "    .dataframe tbody tr th:only-of-type {\n",
              "        vertical-align: middle;\n",
              "    }\n",
              "\n",
              "    .dataframe tbody tr th {\n",
              "        vertical-align: top;\n",
              "    }\n",
              "\n",
              "    .dataframe thead th {\n",
              "        text-align: right;\n",
              "    }\n",
              "</style>\n",
              "<table border=\"1\" class=\"dataframe\">\n",
              "  <thead>\n",
              "    <tr style=\"text-align: right;\">\n",
              "      <th></th>\n",
              "      <th>Unnamed: 0</th>\n",
              "      <th>Unnamed: 0.1</th>\n",
              "      <th>Unnamed: 0.1.1</th>\n",
              "      <th>category_id</th>\n",
              "      <th>views</th>\n",
              "      <th>likes</th>\n",
              "      <th>dislikes</th>\n",
              "      <th>comment_count</th>\n",
              "      <th>like_percentage</th>\n",
              "      <th>popular</th>\n",
              "      <th>sent_score</th>\n",
              "    </tr>\n",
              "  </thead>\n",
              "  <tbody>\n",
              "    <tr>\n",
              "      <th>count</th>\n",
              "      <td>237785.000000</td>\n",
              "      <td>237785.000000</td>\n",
              "      <td>237785.000000</td>\n",
              "      <td>237785.000000</td>\n",
              "      <td>2.377850e+05</td>\n",
              "      <td>2.377850e+05</td>\n",
              "      <td>2.377850e+05</td>\n",
              "      <td>2.377850e+05</td>\n",
              "      <td>237785.000000</td>\n",
              "      <td>237785.000000</td>\n",
              "      <td>237785.00000</td>\n",
              "    </tr>\n",
              "    <tr>\n",
              "      <th>mean</th>\n",
              "      <td>118892.000000</td>\n",
              "      <td>120616.442139</td>\n",
              "      <td>120616.442139</td>\n",
              "      <td>20.528755</td>\n",
              "      <td>1.006113e+06</td>\n",
              "      <td>3.351927e+04</td>\n",
              "      <td>1.763528e+03</td>\n",
              "      <td>3.837915e+03</td>\n",
              "      <td>91.786679</td>\n",
              "      <td>0.117976</td>\n",
              "      <td>0.15733</td>\n",
              "    </tr>\n",
              "    <tr>\n",
              "      <th>std</th>\n",
              "      <td>68642.761217</td>\n",
              "      <td>69779.346197</td>\n",
              "      <td>69779.346197</td>\n",
              "      <td>7.008499</td>\n",
              "      <td>3.902957e+06</td>\n",
              "      <td>1.353115e+05</td>\n",
              "      <td>1.815864e+04</td>\n",
              "      <td>2.194087e+04</td>\n",
              "      <td>10.643798</td>\n",
              "      <td>0.322581</td>\n",
              "      <td>0.48013</td>\n",
              "    </tr>\n",
              "    <tr>\n",
              "      <th>min</th>\n",
              "      <td>0.000000</td>\n",
              "      <td>0.000000</td>\n",
              "      <td>0.000000</td>\n",
              "      <td>1.000000</td>\n",
              "      <td>2.230000e+02</td>\n",
              "      <td>0.000000e+00</td>\n",
              "      <td>0.000000e+00</td>\n",
              "      <td>0.000000e+00</td>\n",
              "      <td>0.000000</td>\n",
              "      <td>0.000000</td>\n",
              "      <td>-1.00000</td>\n",
              "    </tr>\n",
              "    <tr>\n",
              "      <th>25%</th>\n",
              "      <td>59446.000000</td>\n",
              "      <td>60082.000000</td>\n",
              "      <td>60082.000000</td>\n",
              "      <td>19.000000</td>\n",
              "      <td>5.420700e+04</td>\n",
              "      <td>8.870000e+02</td>\n",
              "      <td>5.300000e+01</td>\n",
              "      <td>1.210000e+02</td>\n",
              "      <td>89.947664</td>\n",
              "      <td>0.000000</td>\n",
              "      <td>0.00000</td>\n",
              "    </tr>\n",
              "    <tr>\n",
              "      <th>50%</th>\n",
              "      <td>118892.000000</td>\n",
              "      <td>120549.000000</td>\n",
              "      <td>120549.000000</td>\n",
              "      <td>24.000000</td>\n",
              "      <td>2.158460e+05</td>\n",
              "      <td>4.369000e+03</td>\n",
              "      <td>2.170000e+02</td>\n",
              "      <td>5.450000e+02</td>\n",
              "      <td>95.685456</td>\n",
              "      <td>0.000000</td>\n",
              "      <td>0.00000</td>\n",
              "    </tr>\n",
              "    <tr>\n",
              "      <th>75%</th>\n",
              "      <td>178338.000000</td>\n",
              "      <td>181185.000000</td>\n",
              "      <td>181185.000000</td>\n",
              "      <td>24.000000</td>\n",
              "      <td>7.118010e+05</td>\n",
              "      <td>1.941900e+04</td>\n",
              "      <td>7.920000e+02</td>\n",
              "      <td>2.055000e+03</td>\n",
              "      <td>98.042056</td>\n",
              "      <td>0.000000</td>\n",
              "      <td>0.50000</td>\n",
              "    </tr>\n",
              "    <tr>\n",
              "      <th>max</th>\n",
              "      <td>237784.000000</td>\n",
              "      <td>241119.000000</td>\n",
              "      <td>241119.000000</td>\n",
              "      <td>44.000000</td>\n",
              "      <td>2.252119e+08</td>\n",
              "      <td>5.613827e+06</td>\n",
              "      <td>1.674420e+06</td>\n",
              "      <td>1.361580e+06</td>\n",
              "      <td>100.000000</td>\n",
              "      <td>1.000000</td>\n",
              "      <td>1.00000</td>\n",
              "    </tr>\n",
              "  </tbody>\n",
              "</table>\n",
              "</div>"
            ],
            "text/plain": [
              "          Unnamed: 0   Unnamed: 0.1  ...        popular    sent_score\n",
              "count  237785.000000  237785.000000  ...  237785.000000  237785.00000\n",
              "mean   118892.000000  120616.442139  ...       0.117976       0.15733\n",
              "std     68642.761217   69779.346197  ...       0.322581       0.48013\n",
              "min         0.000000       0.000000  ...       0.000000      -1.00000\n",
              "25%     59446.000000   60082.000000  ...       0.000000       0.00000\n",
              "50%    118892.000000  120549.000000  ...       0.000000       0.00000\n",
              "75%    178338.000000  181185.000000  ...       0.000000       0.50000\n",
              "max    237784.000000  241119.000000  ...       1.000000       1.00000\n",
              "\n",
              "[8 rows x 11 columns]"
            ]
          },
          "metadata": {
            "tags": []
          },
          "execution_count": 10
        }
      ]
    },
    {
      "cell_type": "code",
      "metadata": {
        "id": "lHZTmNIQXkPC",
        "colab_type": "code",
        "colab": {}
      },
      "source": [
        "all_tags = youtube['tags']\n",
        "all_sent_values = []\n",
        "all_sentiments = []"
      ],
      "execution_count": 0,
      "outputs": []
    },
    {
      "cell_type": "code",
      "metadata": {
        "id": "02pT6-HJvC3A",
        "colab_type": "code",
        "colab": {}
      },
      "source": [
        "analyser = SentimentIntensityAnalyzer()\n",
        "result = analyser.polarity_scores('paragraph')"
      ],
      "execution_count": 0,
      "outputs": []
    },
    {
      "cell_type": "code",
      "metadata": {
        "id": "s0JoYP_EXkNP",
        "colab_type": "code",
        "colab": {}
      },
      "source": [
        "from nltk.sentiment.vader import SentimentIntensityAnalyzer\n",
        "def sentiment_value(paragraph):\n",
        "    analyser = SentimentIntensityAnalyzer()\n",
        "    result = analyser.polarity_scores(paragraph)\n",
        "    score = result['compound']\n",
        "    return round(score,1)"
      ],
      "execution_count": 0,
      "outputs": []
    },
    {
      "cell_type": "code",
      "metadata": {
        "id": "nXw4Z9_d24LG",
        "colab_type": "code",
        "outputId": "bb269750-8c4f-434b-aeef-6f80c1f5ed6f",
        "colab": {
          "base_uri": "https://localhost:8080/",
          "height": 34
        }
      },
      "source": [
        "youtube.shape"
      ],
      "execution_count": 0,
      "outputs": [
        {
          "output_type": "execute_result",
          "data": {
            "text/plain": [
              "(237785, 21)"
            ]
          },
          "metadata": {
            "tags": []
          },
          "execution_count": 13
        }
      ]
    },
    {
      "cell_type": "code",
      "metadata": {
        "id": "qe7X9skU2zm0",
        "colab_type": "code",
        "outputId": "c1659b37-f684-447a-ad92-8c40ca3a3c78",
        "colab": {
          "base_uri": "https://localhost:8080/",
          "height": 34
        }
      },
      "source": [
        "len(youtube.tags.values)"
      ],
      "execution_count": 0,
      "outputs": [
        {
          "output_type": "execute_result",
          "data": {
            "text/plain": [
              "237785"
            ]
          },
          "metadata": {
            "tags": []
          },
          "execution_count": 14
        }
      ]
    },
    {
      "cell_type": "code",
      "metadata": {
        "id": "ah8FjTwC2LAv",
        "colab_type": "code",
        "colab": {}
      },
      "source": [
        "import re\n",
        "youtube['tags_clean'] = 'Nan'\n",
        "x=0\n",
        "for i in youtube.tags.values:\n",
        "  youtube['tags_clean'][x] = re.sub('[^A-Za-z0-9]+', ' ', i)\n",
        "  x+=1\n",
        "# re.sub('[^A-Za-z0-9]+', ' ', string)"
      ],
      "execution_count": 0,
      "outputs": []
    },
    {
      "cell_type": "code",
      "metadata": {
        "id": "bPnfKeHf3-GU",
        "colab_type": "code",
        "outputId": "4013bcf2-19a4-40fd-b9b1-58739811263b",
        "colab": {
          "base_uri": "https://localhost:8080/",
          "height": 221
        }
      },
      "source": [
        "youtube['tags_clean']"
      ],
      "execution_count": 0,
      "outputs": [
        {
          "output_type": "execute_result",
          "data": {
            "text/plain": [
              "0         Eminem Walk On Water Aftermath Shady Interscop...\n",
              "1         plush bad unboxing unboxing fan mail idubbbztv...\n",
              "2         racist superman rudy mancuso king bach racist ...\n",
              "3         ryan higa higatv nigahiga i dare you idy rhpc ...\n",
              "4         edsheeran ed sheeran acoustic live cover offic...\n",
              "                                ...                        \n",
              "237780    aarons animals aarons animals cat cats kitten ...\n",
              "237781                                                none \n",
              "237782    I gave safiya nygaard a perfect hair makeover ...\n",
              "237783    Black Panther HISHE Marvel Infinity War How It...\n",
              "237784             call of duty cod activision Black Ops 4 \n",
              "Name: tags_clean, Length: 237785, dtype: object"
            ]
          },
          "metadata": {
            "tags": []
          },
          "execution_count": 16
        }
      ]
    },
    {
      "cell_type": "code",
      "metadata": {
        "id": "Vxz66av0-EQ-",
        "colab_type": "code",
        "outputId": "c43364ea-1040-4a0b-a19a-ce3c9e2dbfda",
        "colab": {
          "base_uri": "https://localhost:8080/",
          "height": 34
        }
      },
      "source": [
        "len(youtube.tags_clean.values)"
      ],
      "execution_count": 0,
      "outputs": [
        {
          "output_type": "execute_result",
          "data": {
            "text/plain": [
              "237785"
            ]
          },
          "metadata": {
            "tags": []
          },
          "execution_count": 17
        }
      ]
    },
    {
      "cell_type": "code",
      "metadata": {
        "id": "XBvledUN9_Kw",
        "colab_type": "code",
        "outputId": "d4b8a003-30a4-4eee-c263-d79020e0137d",
        "colab": {
          "base_uri": "https://localhost:8080/",
          "height": 301
        }
      },
      "source": [
        "youtube.head(2)"
      ],
      "execution_count": 0,
      "outputs": [
        {
          "output_type": "execute_result",
          "data": {
            "text/html": [
              "<div>\n",
              "<style scoped>\n",
              "    .dataframe tbody tr th:only-of-type {\n",
              "        vertical-align: middle;\n",
              "    }\n",
              "\n",
              "    .dataframe tbody tr th {\n",
              "        vertical-align: top;\n",
              "    }\n",
              "\n",
              "    .dataframe thead th {\n",
              "        text-align: right;\n",
              "    }\n",
              "</style>\n",
              "<table border=\"1\" class=\"dataframe\">\n",
              "  <thead>\n",
              "    <tr style=\"text-align: right;\">\n",
              "      <th></th>\n",
              "      <th>Unnamed: 0</th>\n",
              "      <th>Unnamed: 0.1</th>\n",
              "      <th>video_id</th>\n",
              "      <th>trending_date</th>\n",
              "      <th>title</th>\n",
              "      <th>channel_title</th>\n",
              "      <th>category_id</th>\n",
              "      <th>publish_time</th>\n",
              "      <th>tags</th>\n",
              "      <th>views</th>\n",
              "      <th>likes</th>\n",
              "      <th>dislikes</th>\n",
              "      <th>comment_count</th>\n",
              "      <th>thumbnail_link</th>\n",
              "      <th>comments_disabled</th>\n",
              "      <th>ratings_disabled</th>\n",
              "      <th>video_error_or_removed</th>\n",
              "      <th>Country</th>\n",
              "      <th>Category</th>\n",
              "      <th>like_percentage</th>\n",
              "      <th>popular</th>\n",
              "      <th>tags_clean</th>\n",
              "      <th>sent_score</th>\n",
              "    </tr>\n",
              "  </thead>\n",
              "  <tbody>\n",
              "    <tr>\n",
              "      <th>0</th>\n",
              "      <td>0</td>\n",
              "      <td>0</td>\n",
              "      <td>n1WpP7iowLc</td>\n",
              "      <td>17.14.11</td>\n",
              "      <td>Eminem - Walk On Water (Audio) ft. Beyoncé</td>\n",
              "      <td>EminemVEVO</td>\n",
              "      <td>10.0</td>\n",
              "      <td>2017-11-10 17:00:03+00:00</td>\n",
              "      <td>Eminem|\"Walk\"|\"On\"|\"Water\"|\"Aftermath/Shady/In...</td>\n",
              "      <td>17158579.0</td>\n",
              "      <td>787425.0</td>\n",
              "      <td>43420.0</td>\n",
              "      <td>125882.0</td>\n",
              "      <td>https://i.ytimg.com/vi/n1WpP7iowLc/default.jpg</td>\n",
              "      <td>False</td>\n",
              "      <td>False</td>\n",
              "      <td>False</td>\n",
              "      <td>Cannada</td>\n",
              "      <td>Music_videos</td>\n",
              "      <td>94.773995</td>\n",
              "      <td>1</td>\n",
              "      <td>Eminem Walk On Water Aftermath Shady Interscop...</td>\n",
              "      <td>0</td>\n",
              "    </tr>\n",
              "    <tr>\n",
              "      <th>1</th>\n",
              "      <td>1</td>\n",
              "      <td>1</td>\n",
              "      <td>0dBIkQ4Mz1M</td>\n",
              "      <td>17.14.11</td>\n",
              "      <td>PLUSH - Bad Unboxing Fan Mail</td>\n",
              "      <td>iDubbbzTV</td>\n",
              "      <td>23.0</td>\n",
              "      <td>2017-11-13 17:00:00+00:00</td>\n",
              "      <td>plush|\"bad unboxing\"|\"unboxing\"|\"fan mail\"|\"id...</td>\n",
              "      <td>1014651.0</td>\n",
              "      <td>127794.0</td>\n",
              "      <td>1688.0</td>\n",
              "      <td>13030.0</td>\n",
              "      <td>https://i.ytimg.com/vi/0dBIkQ4Mz1M/default.jpg</td>\n",
              "      <td>False</td>\n",
              "      <td>False</td>\n",
              "      <td>False</td>\n",
              "      <td>Cannada</td>\n",
              "      <td>Pranks</td>\n",
              "      <td>98.696344</td>\n",
              "      <td>0</td>\n",
              "      <td>plush bad unboxing unboxing fan mail idubbbztv...</td>\n",
              "      <td>0.5</td>\n",
              "    </tr>\n",
              "  </tbody>\n",
              "</table>\n",
              "</div>"
            ],
            "text/plain": [
              "   Unnamed: 0  ...  sent_score\n",
              "0           0  ...           0\n",
              "1           1  ...         0.5\n",
              "\n",
              "[2 rows x 23 columns]"
            ]
          },
          "metadata": {
            "tags": []
          },
          "execution_count": 29
        }
      ]
    },
    {
      "cell_type": "code",
      "metadata": {
        "id": "7FUDuIl98jYa",
        "colab_type": "code",
        "colab": {}
      },
      "source": [
        "youtube['sent_score'] = 'Nan'\n",
        "y = 0\n",
        "for i in range(0,len(youtube.tags_clean.values)):\n",
        "  youtube['sent_score'][y] = sentiment_value(youtube['tags_clean'][i])\n",
        "  y += 1"
      ],
      "execution_count": 0,
      "outputs": []
    },
    {
      "cell_type": "code",
      "metadata": {
        "id": "ss7VzQw-0PYU",
        "colab_type": "code",
        "outputId": "83c9902d-932f-450c-ca4a-c6ca2df2d37d",
        "colab": {
          "base_uri": "https://localhost:8080/",
          "height": 136
        }
      },
      "source": [
        "youtube.columns"
      ],
      "execution_count": 0,
      "outputs": [
        {
          "output_type": "execute_result",
          "data": {
            "text/plain": [
              "Index(['Unnamed: 0', 'Unnamed: 0.1', 'Unnamed: 0.1.1', 'video_id',\n",
              "       'trending_date', 'title', 'channel_title', 'category_id',\n",
              "       'publish_time', 'tags', 'views', 'likes', 'dislikes', 'comment_count',\n",
              "       'thumbnail_link', 'comments_disabled', 'ratings_disabled',\n",
              "       'video_error_or_removed', 'Country', 'Category', 'like_percentage',\n",
              "       'popular', 'tags_clean', 'sent_score'],\n",
              "      dtype='object')"
            ]
          },
          "metadata": {
            "tags": []
          },
          "execution_count": 12
        }
      ]
    },
    {
      "cell_type": "code",
      "metadata": {
        "id": "EkYHGgwl3vxp",
        "colab_type": "code",
        "outputId": "3d750448-abde-4c9a-8a78-a3645fc53403",
        "colab": {
          "base_uri": "https://localhost:8080/",
          "height": 34
        }
      },
      "source": [
        "sent_plot['sent_score'].groupby('channel')"
      ],
      "execution_count": 0,
      "outputs": [
        {
          "output_type": "execute_result",
          "data": {
            "text/plain": [
              "0.08381248010394869"
            ]
          },
          "metadata": {
            "tags": []
          },
          "execution_count": 37
        }
      ]
    },
    {
      "cell_type": "code",
      "metadata": {
        "id": "e2SVHbWM61RH",
        "colab_type": "code",
        "outputId": "792cbffb-fa05-4bc6-e22d-eef61c3c4134",
        "colab": {
          "base_uri": "https://localhost:8080/",
          "height": 34
        }
      },
      "source": [
        "cat.columns"
      ],
      "execution_count": 0,
      "outputs": [
        {
          "output_type": "execute_result",
          "data": {
            "text/plain": [
              "Index(['sent_score'], dtype='object')"
            ]
          },
          "metadata": {
            "tags": []
          },
          "execution_count": 59
        }
      ]
    },
    {
      "cell_type": "code",
      "metadata": {
        "id": "9uDysWky6p5R",
        "colab_type": "code",
        "outputId": "5da9bba2-9805-4888-f95d-f77652f05052",
        "colab": {
          "base_uri": "https://localhost:8080/",
          "height": 136
        }
      },
      "source": [
        "youtube.columns"
      ],
      "execution_count": 0,
      "outputs": [
        {
          "output_type": "execute_result",
          "data": {
            "text/plain": [
              "Index(['Unnamed: 0', 'Unnamed: 0.1', 'Unnamed: 0.1.1', 'video_id',\n",
              "       'trending_date', 'title', 'channel_title', 'category_id',\n",
              "       'publish_time', 'tags', 'views', 'likes', 'dislikes', 'comment_count',\n",
              "       'thumbnail_link', 'comments_disabled', 'ratings_disabled',\n",
              "       'video_error_or_removed', 'Country', 'Category', 'like_percentage',\n",
              "       'popular', 'tags_clean', 'sent_score'],\n",
              "      dtype='object')"
            ]
          },
          "metadata": {
            "tags": []
          },
          "execution_count": 54
        }
      ]
    },
    {
      "cell_type": "code",
      "metadata": {
        "id": "AbZluaIR6mtI",
        "colab_type": "code",
        "outputId": "aca9d01e-d33d-4c73-ae7a-f7ab3637ff83",
        "colab": {
          "base_uri": "https://localhost:8080/",
          "height": 606
        }
      },
      "source": [
        "youtube.groupby(\"channel_title\").sum().sort_values(by = 'sent_score', ascending = False)"
      ],
      "execution_count": 0,
      "outputs": [
        {
          "output_type": "execute_result",
          "data": {
            "text/html": [
              "<div>\n",
              "<style scoped>\n",
              "    .dataframe tbody tr th:only-of-type {\n",
              "        vertical-align: middle;\n",
              "    }\n",
              "\n",
              "    .dataframe tbody tr th {\n",
              "        vertical-align: top;\n",
              "    }\n",
              "\n",
              "    .dataframe thead th {\n",
              "        text-align: right;\n",
              "    }\n",
              "</style>\n",
              "<table border=\"1\" class=\"dataframe\">\n",
              "  <thead>\n",
              "    <tr style=\"text-align: right;\">\n",
              "      <th></th>\n",
              "      <th>Unnamed: 0</th>\n",
              "      <th>Unnamed: 0.1</th>\n",
              "      <th>Unnamed: 0.1.1</th>\n",
              "      <th>category_id</th>\n",
              "      <th>views</th>\n",
              "      <th>likes</th>\n",
              "      <th>dislikes</th>\n",
              "      <th>comment_count</th>\n",
              "      <th>comments_disabled</th>\n",
              "      <th>ratings_disabled</th>\n",
              "      <th>video_error_or_removed</th>\n",
              "      <th>like_percentage</th>\n",
              "      <th>popular</th>\n",
              "      <th>sent_score</th>\n",
              "    </tr>\n",
              "    <tr>\n",
              "      <th>channel_title</th>\n",
              "      <th></th>\n",
              "      <th></th>\n",
              "      <th></th>\n",
              "      <th></th>\n",
              "      <th></th>\n",
              "      <th></th>\n",
              "      <th></th>\n",
              "      <th></th>\n",
              "      <th></th>\n",
              "      <th></th>\n",
              "      <th></th>\n",
              "      <th></th>\n",
              "      <th></th>\n",
              "      <th></th>\n",
              "    </tr>\n",
              "  </thead>\n",
              "  <tbody>\n",
              "    <tr>\n",
              "      <th>The Late Show with Stephen Colbert</th>\n",
              "      <td>94326615</td>\n",
              "      <td>95691007</td>\n",
              "      <td>95691007</td>\n",
              "      <td>18664.0</td>\n",
              "      <td>850246854.0</td>\n",
              "      <td>11491461.0</td>\n",
              "      <td>624228.0</td>\n",
              "      <td>1369834.0</td>\n",
              "      <td>0.0</td>\n",
              "      <td>0.0</td>\n",
              "      <td>0.0</td>\n",
              "      <td>74548.433515</td>\n",
              "      <td>118</td>\n",
              "      <td>786.0</td>\n",
              "    </tr>\n",
              "    <tr>\n",
              "      <th>The Tonight Show Starring Jimmy Fallon</th>\n",
              "      <td>63599372</td>\n",
              "      <td>64522268</td>\n",
              "      <td>64522268</td>\n",
              "      <td>11385.0</td>\n",
              "      <td>746834718.0</td>\n",
              "      <td>19266674.0</td>\n",
              "      <td>502775.0</td>\n",
              "      <td>1310100.0</td>\n",
              "      <td>0.0</td>\n",
              "      <td>0.0</td>\n",
              "      <td>0.0</td>\n",
              "      <td>47689.206222</td>\n",
              "      <td>142</td>\n",
              "      <td>476.5</td>\n",
              "    </tr>\n",
              "    <tr>\n",
              "      <th>Elhiwar Ettounsi</th>\n",
              "      <td>56959858</td>\n",
              "      <td>57766229</td>\n",
              "      <td>57766229</td>\n",
              "      <td>14064.0</td>\n",
              "      <td>66530891.0</td>\n",
              "      <td>359299.0</td>\n",
              "      <td>67454.0</td>\n",
              "      <td>97598.0</td>\n",
              "      <td>0.0</td>\n",
              "      <td>0.0</td>\n",
              "      <td>0.0</td>\n",
              "      <td>48811.240721</td>\n",
              "      <td>0</td>\n",
              "      <td>460.8</td>\n",
              "    </tr>\n",
              "    <tr>\n",
              "      <th>The Daily Show with Trevor Noah</th>\n",
              "      <td>55930740</td>\n",
              "      <td>56735585</td>\n",
              "      <td>56735585</td>\n",
              "      <td>9867.0</td>\n",
              "      <td>387124090.0</td>\n",
              "      <td>7518906.0</td>\n",
              "      <td>493498.0</td>\n",
              "      <td>1078890.0</td>\n",
              "      <td>0.0</td>\n",
              "      <td>0.0</td>\n",
              "      <td>0.0</td>\n",
              "      <td>41134.782451</td>\n",
              "      <td>25</td>\n",
              "      <td>402.5</td>\n",
              "    </tr>\n",
              "    <tr>\n",
              "      <th>SAB TV</th>\n",
              "      <td>39429431</td>\n",
              "      <td>40002843</td>\n",
              "      <td>40002843</td>\n",
              "      <td>9810.0</td>\n",
              "      <td>118709694.0</td>\n",
              "      <td>655685.0</td>\n",
              "      <td>99492.0</td>\n",
              "      <td>62805.0</td>\n",
              "      <td>0.0</td>\n",
              "      <td>0.0</td>\n",
              "      <td>0.0</td>\n",
              "      <td>35540.025973</td>\n",
              "      <td>2</td>\n",
              "      <td>385.2</td>\n",
              "    </tr>\n",
              "    <tr>\n",
              "      <th>...</th>\n",
              "      <td>...</td>\n",
              "      <td>...</td>\n",
              "      <td>...</td>\n",
              "      <td>...</td>\n",
              "      <td>...</td>\n",
              "      <td>...</td>\n",
              "      <td>...</td>\n",
              "      <td>...</td>\n",
              "      <td>...</td>\n",
              "      <td>...</td>\n",
              "      <td>...</td>\n",
              "      <td>...</td>\n",
              "      <td>...</td>\n",
              "      <td>...</td>\n",
              "    </tr>\n",
              "    <tr>\n",
              "      <th>Les Grosses Têtes</th>\n",
              "      <td>23380490</td>\n",
              "      <td>23721356</td>\n",
              "      <td>23721356</td>\n",
              "      <td>4708.0</td>\n",
              "      <td>993042.0</td>\n",
              "      <td>6722.0</td>\n",
              "      <td>828.0</td>\n",
              "      <td>662.0</td>\n",
              "      <td>0.0</td>\n",
              "      <td>0.0</td>\n",
              "      <td>0.0</td>\n",
              "      <td>18924.090070</td>\n",
              "      <td>0</td>\n",
              "      <td>-120.6</td>\n",
              "    </tr>\n",
              "    <tr>\n",
              "      <th>Auf Streife</th>\n",
              "      <td>18008614</td>\n",
              "      <td>18250468</td>\n",
              "      <td>18250468</td>\n",
              "      <td>4314.0</td>\n",
              "      <td>15789479.0</td>\n",
              "      <td>347572.0</td>\n",
              "      <td>16605.0</td>\n",
              "      <td>56838.0</td>\n",
              "      <td>0.0</td>\n",
              "      <td>0.0</td>\n",
              "      <td>0.0</td>\n",
              "      <td>17349.008925</td>\n",
              "      <td>0</td>\n",
              "      <td>-121.4</td>\n",
              "    </tr>\n",
              "    <tr>\n",
              "      <th>Philip DeFranco</th>\n",
              "      <td>24136731</td>\n",
              "      <td>24455320</td>\n",
              "      <td>24455320</td>\n",
              "      <td>8209.0</td>\n",
              "      <td>412203366.0</td>\n",
              "      <td>21804068.0</td>\n",
              "      <td>569016.0</td>\n",
              "      <td>3935580.0</td>\n",
              "      <td>0.0</td>\n",
              "      <td>0.0</td>\n",
              "      <td>0.0</td>\n",
              "      <td>32749.496766</td>\n",
              "      <td>45</td>\n",
              "      <td>-170.4</td>\n",
              "    </tr>\n",
              "    <tr>\n",
              "      <th>CinemaSins</th>\n",
              "      <td>37414731</td>\n",
              "      <td>37946979</td>\n",
              "      <td>37946979</td>\n",
              "      <td>362.0</td>\n",
              "      <td>475280312.0</td>\n",
              "      <td>12742725.0</td>\n",
              "      <td>662837.0</td>\n",
              "      <td>1946866.0</td>\n",
              "      <td>0.0</td>\n",
              "      <td>0.0</td>\n",
              "      <td>0.0</td>\n",
              "      <td>34725.461135</td>\n",
              "      <td>88</td>\n",
              "      <td>-290.5</td>\n",
              "    </tr>\n",
              "    <tr>\n",
              "      <th>FailArmy</th>\n",
              "      <td>22044714</td>\n",
              "      <td>22343022</td>\n",
              "      <td>22343022</td>\n",
              "      <td>6808.0</td>\n",
              "      <td>286133931.0</td>\n",
              "      <td>5323926.0</td>\n",
              "      <td>285104.0</td>\n",
              "      <td>267606.0</td>\n",
              "      <td>0.0</td>\n",
              "      <td>0.0</td>\n",
              "      <td>0.0</td>\n",
              "      <td>28082.866360</td>\n",
              "      <td>21</td>\n",
              "      <td>-296.0</td>\n",
              "    </tr>\n",
              "  </tbody>\n",
              "</table>\n",
              "<p>16862 rows × 14 columns</p>\n",
              "</div>"
            ],
            "text/plain": [
              "                                        Unnamed: 0  ...  sent_score\n",
              "channel_title                                       ...            \n",
              "The Late Show with Stephen Colbert        94326615  ...       786.0\n",
              "The Tonight Show Starring Jimmy Fallon    63599372  ...       476.5\n",
              "Elhiwar Ettounsi                          56959858  ...       460.8\n",
              "The Daily Show with Trevor Noah           55930740  ...       402.5\n",
              "SAB TV                                    39429431  ...       385.2\n",
              "...                                            ...  ...         ...\n",
              "Les Grosses Têtes                         23380490  ...      -120.6\n",
              "Auf Streife                               18008614  ...      -121.4\n",
              "Philip DeFranco                           24136731  ...      -170.4\n",
              "CinemaSins                                37414731  ...      -290.5\n",
              "FailArmy                                  22044714  ...      -296.0\n",
              "\n",
              "[16862 rows x 14 columns]"
            ]
          },
          "metadata": {
            "tags": []
          },
          "execution_count": 87
        }
      ]
    },
    {
      "cell_type": "code",
      "metadata": {
        "id": "O2zfUqPQ5IW1",
        "colab_type": "code",
        "outputId": "a7fc5944-77e9-4f5f-cb13-aec405f09356",
        "colab": {
          "base_uri": "https://localhost:8080/",
          "height": 34
        }
      },
      "source": [
        "len(youtube.channel_title.unique())"
      ],
      "execution_count": 0,
      "outputs": [
        {
          "output_type": "execute_result",
          "data": {
            "text/plain": [
              "16862"
            ]
          },
          "metadata": {
            "tags": []
          },
          "execution_count": 44
        }
      ]
    },
    {
      "cell_type": "code",
      "metadata": {
        "id": "AtpQoShh4Zs1",
        "colab_type": "code",
        "outputId": "ff674493-026b-4102-b103-0f41fc35b4b2",
        "colab": {
          "base_uri": "https://localhost:8080/",
          "height": 442
        }
      },
      "source": [
        "youtube.dtypes"
      ],
      "execution_count": 0,
      "outputs": [
        {
          "output_type": "execute_result",
          "data": {
            "text/plain": [
              "Unnamed: 0                  int64\n",
              "Unnamed: 0.1                int64\n",
              "Unnamed: 0.1.1              int64\n",
              "video_id                   object\n",
              "trending_date              object\n",
              "title                      object\n",
              "channel_title              object\n",
              "category_id               float64\n",
              "publish_time               object\n",
              "tags                       object\n",
              "views                     float64\n",
              "likes                     float64\n",
              "dislikes                  float64\n",
              "comment_count             float64\n",
              "thumbnail_link             object\n",
              "comments_disabled            bool\n",
              "ratings_disabled             bool\n",
              "video_error_or_removed       bool\n",
              "Country                    object\n",
              "Category                   object\n",
              "like_percentage           float64\n",
              "popular                     int64\n",
              "tags_clean                 object\n",
              "sent_score                float64\n",
              "dtype: object"
            ]
          },
          "metadata": {
            "tags": []
          },
          "execution_count": 25
        }
      ]
    },
    {
      "cell_type": "code",
      "metadata": {
        "id": "ETxyxk2b4Zpg",
        "colab_type": "code",
        "outputId": "e7685d6a-27e2-45b7-881d-472eb0ce7049",
        "colab": {
          "base_uri": "https://localhost:8080/",
          "height": 1000
        }
      },
      "source": [
        "!pip install streamlit"
      ],
      "execution_count": 0,
      "outputs": [
        {
          "output_type": "stream",
          "text": [
            "Collecting streamlit\n",
            "\u001b[?25l  Downloading https://files.pythonhosted.org/packages/ae/df/5c539f6d67b6cac93a3a28fa9c5e0140cb625489ada5ae72b1f0c408828c/streamlit-0.57.3-py2.py3-none-any.whl (7.1MB)\n",
            "\u001b[K     |████████████████████████████████| 7.1MB 2.6MB/s \n",
            "\u001b[?25hRequirement already satisfied: botocore>=1.13.44 in /usr/local/lib/python3.6/dist-packages (from streamlit) (1.15.39)\n",
            "Requirement already satisfied: boto3 in /usr/local/lib/python3.6/dist-packages (from streamlit) (1.12.39)\n",
            "Collecting cachetools>=4.0\n",
            "  Downloading https://files.pythonhosted.org/packages/b3/59/524ffb454d05001e2be74c14745b485681c6ed5f2e625f71d135704c0909/cachetools-4.1.0-py3-none-any.whl\n",
            "Collecting tornado<6.0,>=5.0\n",
            "\u001b[?25l  Downloading https://files.pythonhosted.org/packages/e6/78/6e7b5af12c12bdf38ca9bfe863fcaf53dc10430a312d0324e76c1e5ca426/tornado-5.1.1.tar.gz (516kB)\n",
            "\u001b[K     |████████████████████████████████| 522kB 46.9MB/s \n",
            "\u001b[?25hRequirement already satisfied: protobuf>=3.6.0 in /usr/local/lib/python3.6/dist-packages (from streamlit) (3.10.0)\n",
            "Requirement already satisfied: astor in /usr/local/lib/python3.6/dist-packages (from streamlit) (0.8.1)\n",
            "Collecting blinker\n",
            "\u001b[?25l  Downloading https://files.pythonhosted.org/packages/1b/51/e2a9f3b757eb802f61dc1f2b09c8c99f6eb01cf06416c0671253536517b6/blinker-1.4.tar.gz (111kB)\n",
            "\u001b[K     |████████████████████████████████| 112kB 44.2MB/s \n",
            "\u001b[?25hRequirement already satisfied: packaging in /usr/local/lib/python3.6/dist-packages (from streamlit) (20.3)\n",
            "Collecting pydeck>=0.1.dev5\n",
            "\u001b[?25l  Downloading https://files.pythonhosted.org/packages/ab/75/fb561f88b453d86fbb8ac4c96ebe5445c35efa3d1b80b9c655ebc3558a68/pydeck-0.3.0-py2.py3-none-any.whl (5.3MB)\n",
            "\u001b[K     |████████████████████████████████| 5.3MB 42.5MB/s \n",
            "\u001b[?25hRequirement already satisfied: tzlocal in /usr/local/lib/python3.6/dist-packages (from streamlit) (1.5.1)\n",
            "Requirement already satisfied: numpy in /usr/local/lib/python3.6/dist-packages (from streamlit) (1.18.2)\n",
            "Requirement already satisfied: python-dateutil in /usr/local/lib/python3.6/dist-packages (from streamlit) (2.8.1)\n",
            "Requirement already satisfied: click>=7.0 in /usr/local/lib/python3.6/dist-packages (from streamlit) (7.1.1)\n",
            "Collecting watchdog\n",
            "\u001b[?25l  Downloading https://files.pythonhosted.org/packages/73/c3/ed6d992006837e011baca89476a4bbffb0a91602432f73bd4473816c76e2/watchdog-0.10.2.tar.gz (95kB)\n",
            "\u001b[K     |████████████████████████████████| 102kB 11.8MB/s \n",
            "\u001b[?25hRequirement already satisfied: altair>=3.2.0 in /usr/local/lib/python3.6/dist-packages (from streamlit) (4.1.0)\n",
            "Requirement already satisfied: pandas>=0.21.0 in /usr/local/lib/python3.6/dist-packages (from streamlit) (1.0.3)\n",
            "Requirement already satisfied: requests in /usr/local/lib/python3.6/dist-packages (from streamlit) (2.21.0)\n",
            "Requirement already satisfied: future in /usr/local/lib/python3.6/dist-packages (from streamlit) (0.16.0)\n",
            "Collecting validators\n",
            "  Downloading https://files.pythonhosted.org/packages/9b/15/f6bab21c3b54ae2025d886890831ebe790e59b57671b8fb96073cb84a5ed/validators-0.14.3.tar.gz\n",
            "Collecting enum-compat\n",
            "  Downloading https://files.pythonhosted.org/packages/55/ae/467bc4509246283bb59746e21a1a2f5a8aecbef56b1fa6eaca78cd438c8b/enum_compat-0.0.3-py3-none-any.whl\n",
            "Collecting base58\n",
            "  Downloading https://files.pythonhosted.org/packages/ac/03/52b4d529a1ba2f006be395a1b9ff6e1ab83875b84e1dc67343362edaff05/base58-2.0.0-py3-none-any.whl\n",
            "Collecting toml\n",
            "  Downloading https://files.pythonhosted.org/packages/a2/12/ced7105d2de62fa7c8fb5fce92cc4ce66b57c95fb875e9318dba7f8c5db0/toml-0.10.0-py2.py3-none-any.whl\n",
            "Collecting pillow>=6.2.0\n",
            "\u001b[?25l  Downloading https://files.pythonhosted.org/packages/ba/90/8a24e6220cfcf6a3a0162535d5b926e774117e384ff921908e07e4c92bda/Pillow-7.1.1-cp36-cp36m-manylinux1_x86_64.whl (2.1MB)\n",
            "\u001b[K     |████████████████████████████████| 2.1MB 33.5MB/s \n",
            "\u001b[?25hRequirement already satisfied: docutils<0.16,>=0.10 in /usr/local/lib/python3.6/dist-packages (from botocore>=1.13.44->streamlit) (0.15.2)\n",
            "Requirement already satisfied: jmespath<1.0.0,>=0.7.1 in /usr/local/lib/python3.6/dist-packages (from botocore>=1.13.44->streamlit) (0.9.5)\n",
            "Requirement already satisfied: urllib3<1.26,>=1.20; python_version != \"3.4\" in /usr/local/lib/python3.6/dist-packages (from botocore>=1.13.44->streamlit) (1.24.3)\n",
            "Requirement already satisfied: s3transfer<0.4.0,>=0.3.0 in /usr/local/lib/python3.6/dist-packages (from boto3->streamlit) (0.3.3)\n",
            "Requirement already satisfied: six>=1.9 in /usr/local/lib/python3.6/dist-packages (from protobuf>=3.6.0->streamlit) (1.12.0)\n",
            "Requirement already satisfied: setuptools in /usr/local/lib/python3.6/dist-packages (from protobuf>=3.6.0->streamlit) (46.1.3)\n",
            "Requirement already satisfied: pyparsing>=2.0.2 in /usr/local/lib/python3.6/dist-packages (from packaging->streamlit) (2.4.7)\n",
            "Requirement already satisfied: traitlets>=4.3.2 in /usr/local/lib/python3.6/dist-packages (from pydeck>=0.1.dev5->streamlit) (4.3.3)\n",
            "Requirement already satisfied: ipywidgets>=7.0.0 in /usr/local/lib/python3.6/dist-packages (from pydeck>=0.1.dev5->streamlit) (7.5.1)\n",
            "Collecting ipykernel>=5.1.2; python_version >= \"3.4\"\n",
            "\u001b[?25l  Downloading https://files.pythonhosted.org/packages/ed/5d/cf47741fa80826f8edf435d9bcf0e84eef2d6d02953ff85e0563b3ab3f0b/ipykernel-5.2.1-py3-none-any.whl (118kB)\n",
            "\u001b[K     |████████████████████████████████| 122kB 42.8MB/s \n",
            "\u001b[?25hRequirement already satisfied: jinja2>=2.10.1 in /usr/local/lib/python3.6/dist-packages (from pydeck>=0.1.dev5->streamlit) (2.11.2)\n",
            "Requirement already satisfied: pytz in /usr/local/lib/python3.6/dist-packages (from tzlocal->streamlit) (2018.9)\n",
            "Collecting pathtools>=0.1.1\n",
            "  Downloading https://files.pythonhosted.org/packages/e7/7f/470d6fcdf23f9f3518f6b0b76be9df16dcc8630ad409947f8be2eb0ed13a/pathtools-0.1.2.tar.gz\n",
            "Requirement already satisfied: toolz in /usr/local/lib/python3.6/dist-packages (from altair>=3.2.0->streamlit) (0.10.0)\n",
            "Requirement already satisfied: jsonschema in /usr/local/lib/python3.6/dist-packages (from altair>=3.2.0->streamlit) (2.6.0)\n",
            "Requirement already satisfied: entrypoints in /usr/local/lib/python3.6/dist-packages (from altair>=3.2.0->streamlit) (0.3)\n",
            "Requirement already satisfied: idna<2.9,>=2.5 in /usr/local/lib/python3.6/dist-packages (from requests->streamlit) (2.8)\n",
            "Requirement already satisfied: chardet<3.1.0,>=3.0.2 in /usr/local/lib/python3.6/dist-packages (from requests->streamlit) (3.0.4)\n",
            "Requirement already satisfied: certifi>=2017.4.17 in /usr/local/lib/python3.6/dist-packages (from requests->streamlit) (2020.4.5.1)\n",
            "Requirement already satisfied: decorator>=3.4.0 in /usr/local/lib/python3.6/dist-packages (from validators->streamlit) (4.4.2)\n",
            "Requirement already satisfied: ipython-genutils in /usr/local/lib/python3.6/dist-packages (from traitlets>=4.3.2->pydeck>=0.1.dev5->streamlit) (0.2.0)\n",
            "Requirement already satisfied: widgetsnbextension~=3.5.0 in /usr/local/lib/python3.6/dist-packages (from ipywidgets>=7.0.0->pydeck>=0.1.dev5->streamlit) (3.5.1)\n",
            "Requirement already satisfied: ipython>=4.0.0; python_version >= \"3.3\" in /usr/local/lib/python3.6/dist-packages (from ipywidgets>=7.0.0->pydeck>=0.1.dev5->streamlit) (5.5.0)\n",
            "Requirement already satisfied: nbformat>=4.2.0 in /usr/local/lib/python3.6/dist-packages (from ipywidgets>=7.0.0->pydeck>=0.1.dev5->streamlit) (5.0.5)\n",
            "Requirement already satisfied: jupyter-client in /usr/local/lib/python3.6/dist-packages (from ipykernel>=5.1.2; python_version >= \"3.4\"->pydeck>=0.1.dev5->streamlit) (5.3.4)\n",
            "Requirement already satisfied: MarkupSafe>=0.23 in /usr/local/lib/python3.6/dist-packages (from jinja2>=2.10.1->pydeck>=0.1.dev5->streamlit) (1.1.1)\n",
            "Requirement already satisfied: notebook>=4.4.1 in /usr/local/lib/python3.6/dist-packages (from widgetsnbextension~=3.5.0->ipywidgets>=7.0.0->pydeck>=0.1.dev5->streamlit) (5.2.2)\n",
            "Requirement already satisfied: pexpect; sys_platform != \"win32\" in /usr/local/lib/python3.6/dist-packages (from ipython>=4.0.0; python_version >= \"3.3\"->ipywidgets>=7.0.0->pydeck>=0.1.dev5->streamlit) (4.8.0)\n",
            "Requirement already satisfied: simplegeneric>0.8 in /usr/local/lib/python3.6/dist-packages (from ipython>=4.0.0; python_version >= \"3.3\"->ipywidgets>=7.0.0->pydeck>=0.1.dev5->streamlit) (0.8.1)\n",
            "Requirement already satisfied: pickleshare in /usr/local/lib/python3.6/dist-packages (from ipython>=4.0.0; python_version >= \"3.3\"->ipywidgets>=7.0.0->pydeck>=0.1.dev5->streamlit) (0.7.5)\n",
            "Requirement already satisfied: prompt-toolkit<2.0.0,>=1.0.4 in /usr/local/lib/python3.6/dist-packages (from ipython>=4.0.0; python_version >= \"3.3\"->ipywidgets>=7.0.0->pydeck>=0.1.dev5->streamlit) (1.0.18)\n",
            "Requirement already satisfied: pygments in /usr/local/lib/python3.6/dist-packages (from ipython>=4.0.0; python_version >= \"3.3\"->ipywidgets>=7.0.0->pydeck>=0.1.dev5->streamlit) (2.1.3)\n",
            "Requirement already satisfied: jupyter-core in /usr/local/lib/python3.6/dist-packages (from nbformat>=4.2.0->ipywidgets>=7.0.0->pydeck>=0.1.dev5->streamlit) (4.6.3)\n",
            "Requirement already satisfied: pyzmq>=13 in /usr/local/lib/python3.6/dist-packages (from jupyter-client->ipykernel>=5.1.2; python_version >= \"3.4\"->pydeck>=0.1.dev5->streamlit) (19.0.0)\n",
            "Requirement already satisfied: nbconvert in /usr/local/lib/python3.6/dist-packages (from notebook>=4.4.1->widgetsnbextension~=3.5.0->ipywidgets>=7.0.0->pydeck>=0.1.dev5->streamlit) (5.6.1)\n",
            "Requirement already satisfied: terminado>=0.3.3; sys_platform != \"win32\" in /usr/local/lib/python3.6/dist-packages (from notebook>=4.4.1->widgetsnbextension~=3.5.0->ipywidgets>=7.0.0->pydeck>=0.1.dev5->streamlit) (0.8.3)\n",
            "Requirement already satisfied: ptyprocess>=0.5 in /usr/local/lib/python3.6/dist-packages (from pexpect; sys_platform != \"win32\"->ipython>=4.0.0; python_version >= \"3.3\"->ipywidgets>=7.0.0->pydeck>=0.1.dev5->streamlit) (0.6.0)\n",
            "Requirement already satisfied: wcwidth in /usr/local/lib/python3.6/dist-packages (from prompt-toolkit<2.0.0,>=1.0.4->ipython>=4.0.0; python_version >= \"3.3\"->ipywidgets>=7.0.0->pydeck>=0.1.dev5->streamlit) (0.1.9)\n",
            "Requirement already satisfied: bleach in /usr/local/lib/python3.6/dist-packages (from nbconvert->notebook>=4.4.1->widgetsnbextension~=3.5.0->ipywidgets>=7.0.0->pydeck>=0.1.dev5->streamlit) (3.1.4)\n",
            "Requirement already satisfied: defusedxml in /usr/local/lib/python3.6/dist-packages (from nbconvert->notebook>=4.4.1->widgetsnbextension~=3.5.0->ipywidgets>=7.0.0->pydeck>=0.1.dev5->streamlit) (0.6.0)\n",
            "Requirement already satisfied: pandocfilters>=1.4.1 in /usr/local/lib/python3.6/dist-packages (from nbconvert->notebook>=4.4.1->widgetsnbextension~=3.5.0->ipywidgets>=7.0.0->pydeck>=0.1.dev5->streamlit) (1.4.2)\n",
            "Requirement already satisfied: testpath in /usr/local/lib/python3.6/dist-packages (from nbconvert->notebook>=4.4.1->widgetsnbextension~=3.5.0->ipywidgets>=7.0.0->pydeck>=0.1.dev5->streamlit) (0.4.4)\n",
            "Requirement already satisfied: mistune<2,>=0.8.1 in /usr/local/lib/python3.6/dist-packages (from nbconvert->notebook>=4.4.1->widgetsnbextension~=3.5.0->ipywidgets>=7.0.0->pydeck>=0.1.dev5->streamlit) (0.8.4)\n",
            "Requirement already satisfied: webencodings in /usr/local/lib/python3.6/dist-packages (from bleach->nbconvert->notebook>=4.4.1->widgetsnbextension~=3.5.0->ipywidgets>=7.0.0->pydeck>=0.1.dev5->streamlit) (0.5.1)\n",
            "Building wheels for collected packages: tornado, blinker, watchdog, validators, pathtools\n",
            "  Building wheel for tornado (setup.py) ... \u001b[?25l\u001b[?25hdone\n",
            "  Created wheel for tornado: filename=tornado-5.1.1-cp36-cp36m-linux_x86_64.whl size=462323 sha256=4cb4fa1bc8f28463343f06630cbbe2f872badc43e16703f3bbd19603b88bbd9e\n",
            "  Stored in directory: /root/.cache/pip/wheels/6d/e1/ce/f4ee2fa420cc6b940123c64992b81047816d0a9fad6b879325\n",
            "  Building wheel for blinker (setup.py) ... \u001b[?25l\u001b[?25hdone\n",
            "  Created wheel for blinker: filename=blinker-1.4-cp36-none-any.whl size=13449 sha256=f3a58153fb2ff15765da3c0268237130632a5e88251de785437add842065d7da\n",
            "  Stored in directory: /root/.cache/pip/wheels/92/a0/00/8690a57883956a301d91cf4ec999cc0b258b01e3f548f86e89\n",
            "  Building wheel for watchdog (setup.py) ... \u001b[?25l\u001b[?25hdone\n",
            "  Created wheel for watchdog: filename=watchdog-0.10.2-cp36-none-any.whl size=73605 sha256=6cb8dbed04bea28d51dbd8ffd68877d3621132c8ff83201b3dabcf44a24d0e97\n",
            "  Stored in directory: /root/.cache/pip/wheels/bc/ed/6c/028dea90d31b359cd2a7c8b0da4db80e41d24a59614154072e\n",
            "  Building wheel for validators (setup.py) ... \u001b[?25l\u001b[?25hdone\n",
            "  Created wheel for validators: filename=validators-0.14.3-cp36-none-any.whl size=17284 sha256=3230feef53064e5bce915a0a81e88edbd72f0363ea6bfd3c78e86bc694257ad1\n",
            "  Stored in directory: /root/.cache/pip/wheels/e2/b2/03/20ab3c26e9faacd78dc775bad6157d295539d07e80f2c5de8e\n",
            "  Building wheel for pathtools (setup.py) ... \u001b[?25l\u001b[?25hdone\n",
            "  Created wheel for pathtools: filename=pathtools-0.1.2-cp36-none-any.whl size=8784 sha256=b9208e749cb1078595b087fdfcf2f6e1e1455a3b7268a3fe450441a1d0ed1bbc\n",
            "  Stored in directory: /root/.cache/pip/wheels/0b/04/79/c3b0c3a0266a3cb4376da31e5bfe8bba0c489246968a68e843\n",
            "Successfully built tornado blinker watchdog validators pathtools\n",
            "\u001b[31mERROR: lime 0.2.0.0 has requirement pillow==5.4.1, but you'll have pillow 7.1.1 which is incompatible.\u001b[0m\n",
            "\u001b[31mERROR: google-colab 1.0.0 has requirement ipykernel~=4.10, but you'll have ipykernel 5.2.1 which is incompatible.\u001b[0m\n",
            "\u001b[31mERROR: google-colab 1.0.0 has requirement tornado~=4.5.0, but you'll have tornado 5.1.1 which is incompatible.\u001b[0m\n",
            "\u001b[31mERROR: google-auth 1.7.2 has requirement cachetools<3.2,>=2.0.0, but you'll have cachetools 4.1.0 which is incompatible.\u001b[0m\n",
            "\u001b[31mERROR: albumentations 0.1.12 has requirement imgaug<0.2.7,>=0.2.5, but you'll have imgaug 0.2.9 which is incompatible.\u001b[0m\n",
            "Installing collected packages: cachetools, tornado, blinker, ipykernel, pydeck, pathtools, watchdog, validators, enum-compat, base58, toml, pillow, streamlit\n",
            "  Found existing installation: cachetools 3.1.1\n",
            "    Uninstalling cachetools-3.1.1:\n",
            "      Successfully uninstalled cachetools-3.1.1\n",
            "  Found existing installation: tornado 4.5.3\n",
            "    Uninstalling tornado-4.5.3:\n",
            "      Successfully uninstalled tornado-4.5.3\n",
            "  Found existing installation: ipykernel 4.10.1\n",
            "    Uninstalling ipykernel-4.10.1:\n",
            "      Successfully uninstalled ipykernel-4.10.1\n",
            "  Found existing installation: Pillow 5.4.1\n",
            "    Uninstalling Pillow-5.4.1:\n",
            "      Successfully uninstalled Pillow-5.4.1\n",
            "Successfully installed base58-2.0.0 blinker-1.4 cachetools-4.1.0 enum-compat-0.0.3 ipykernel-5.2.1 pathtools-0.1.2 pillow-7.1.1 pydeck-0.3.0 streamlit-0.57.3 toml-0.10.0 tornado-5.1.1 validators-0.14.3 watchdog-0.10.2\n"
          ],
          "name": "stdout"
        },
        {
          "output_type": "display_data",
          "data": {
            "application/vnd.colab-display-data+json": {
              "pip_warning": {
                "packages": [
                  "PIL",
                  "cachetools",
                  "ipykernel",
                  "tornado"
                ]
              }
            }
          },
          "metadata": {
            "tags": []
          }
        }
      ]
    },
    {
      "cell_type": "code",
      "metadata": {
        "id": "YXFctWbD4ZnX",
        "colab_type": "code",
        "outputId": "e998df5f-66c5-4c6f-d61d-a138775b80a5",
        "colab": {
          "base_uri": "https://localhost:8080/",
          "height": 238
        }
      },
      "source": [
        "# How to run a Dash app in Google Colab\n",
        "\n",
        "### Install ngrok\n",
        "!wget https://bin.equinox.io/c/4VmDzA7iaHb/ngrok-stable-linux-amd64.zip\n",
        "!unzip ngrok-stable-linux-amd64.zip"
      ],
      "execution_count": 0,
      "outputs": [
        {
          "output_type": "stream",
          "text": [
            "--2020-04-20 13:33:43--  https://bin.equinox.io/c/4VmDzA7iaHb/ngrok-stable-linux-amd64.zip\n",
            "Resolving bin.equinox.io (bin.equinox.io)... 35.169.40.78, 34.226.171.201, 52.87.72.17, ...\n",
            "Connecting to bin.equinox.io (bin.equinox.io)|35.169.40.78|:443... connected.\n",
            "HTTP request sent, awaiting response... 200 OK\n",
            "Length: 13773305 (13M) [application/octet-stream]\n",
            "Saving to: ‘ngrok-stable-linux-amd64.zip’\n",
            "\n",
            "\r          ngrok-sta   0%[                    ]       0  --.-KB/s               \r         ngrok-stab  89%[================>   ]  11.77M  58.9MB/s               \rngrok-stable-linux- 100%[===================>]  13.13M  62.1MB/s    in 0.2s    \n",
            "\n",
            "2020-04-20 13:33:44 (62.1 MB/s) - ‘ngrok-stable-linux-amd64.zip’ saved [13773305/13773305]\n",
            "\n",
            "Archive:  ngrok-stable-linux-amd64.zip\n",
            "  inflating: ngrok                   \n"
          ],
          "name": "stdout"
        }
      ]
    },
    {
      "cell_type": "code",
      "metadata": {
        "id": "VRQ-oAqH1EHi",
        "colab_type": "code",
        "outputId": "edd2a3f4-ac64-44d3-d377-4f482e813f75",
        "colab": {
          "base_uri": "https://localhost:8080/",
          "height": 34
        }
      },
      "source": [
        "get_ipython().system_raw('./ngrok http 8501 &')\n",
        "\n",
        "### Get the public URL where you can access the Dash app. Copy this URL.\n",
        "! curl -s http://localhost:4040/api/tunnels | python3 -c \\\n",
        "    \"import sys, json; print(json.load(sys.stdin)['tunnels'][0]['public_url'])\""
      ],
      "execution_count": 0,
      "outputs": [
        {
          "output_type": "stream",
          "text": [
            "https://e91c2623.ngrok.io\n"
          ],
          "name": "stdout"
        }
      ]
    },
    {
      "cell_type": "code",
      "metadata": {
        "id": "AebxzWgO4ZlJ",
        "colab_type": "code",
        "outputId": "ab64bf1c-d92c-4281-c418-e54a835a0ad6",
        "colab": {
          "base_uri": "https://localhost:8080/",
          "height": 1000
        }
      },
      "source": [
        "#!streamlit run RDM_visualise.py\n",
        "!streamlit run StreamlitNLP.py"
      ],
      "execution_count": 0,
      "outputs": [
        {
          "output_type": "stream",
          "text": [
            "\u001b[0m\n",
            "\u001b[34m\u001b[1m  You can now view your Streamlit app in your browser.\u001b[0m\n",
            "\u001b[0m\n",
            "\u001b[34m  Network URL: \u001b[0m\u001b[1mhttp://172.28.0.2:8501\u001b[0m\n",
            "\u001b[34m  External URL: \u001b[0m\u001b[1mhttp://35.185.52.180:8501\u001b[0m\n",
            "\u001b[0m\n",
            "/usr/local/lib/python3.6/dist-packages/statsmodels/tools/_testing.py:19: FutureWarning: pandas.util.testing is deprecated. Use the functions in the public API at pandas.testing instead.\n",
            "  import pandas.util.testing as tm\n",
            "/usr/local/lib/python3.6/dist-packages/sklearn/externals/joblib/__init__.py:15: FutureWarning: sklearn.externals.joblib is deprecated in 0.21 and will be removed in 0.23. Please import this functionality directly from joblib, which can be installed with: pip install joblib. If this warning is raised when loading pickled models, you may need to re-serialize those models with scikit-learn 0.21+.\n",
            "  warnings.warn(msg, category=FutureWarning)\n",
            "Generating grammar tables from /usr/lib/python3.6/lib2to3/Grammar.txt\n",
            "Generating grammar tables from /usr/lib/python3.6/lib2to3/PatternGrammar.txt\n",
            "/usr/local/lib/python3.6/dist-packages/plotly/express/_doc.py:503: DeprecationWarning:\n",
            "\n",
            "inspect.getargspec() is deprecated since Python 3.0, use inspect.signature() or inspect.getfullargspec()\n",
            "\n",
            "/usr/local/lib/python3.6/dist-packages/plotly/express/_doc.py:503: DeprecationWarning:\n",
            "\n",
            "inspect.getargspec() is deprecated since Python 3.0, use inspect.signature() or inspect.getfullargspec()\n",
            "\n",
            "/usr/local/lib/python3.6/dist-packages/plotly/express/_doc.py:503: DeprecationWarning:\n",
            "\n",
            "inspect.getargspec() is deprecated since Python 3.0, use inspect.signature() or inspect.getfullargspec()\n",
            "\n",
            "/usr/local/lib/python3.6/dist-packages/plotly/express/_doc.py:503: DeprecationWarning:\n",
            "\n",
            "inspect.getargspec() is deprecated since Python 3.0, use inspect.signature() or inspect.getfullargspec()\n",
            "\n",
            "/usr/local/lib/python3.6/dist-packages/plotly/express/_doc.py:503: DeprecationWarning:\n",
            "\n",
            "inspect.getargspec() is deprecated since Python 3.0, use inspect.signature() or inspect.getfullargspec()\n",
            "\n",
            "/usr/local/lib/python3.6/dist-packages/plotly/express/_doc.py:503: DeprecationWarning:\n",
            "\n",
            "inspect.getargspec() is deprecated since Python 3.0, use inspect.signature() or inspect.getfullargspec()\n",
            "\n",
            "/usr/local/lib/python3.6/dist-packages/plotly/express/_doc.py:503: DeprecationWarning:\n",
            "\n",
            "inspect.getargspec() is deprecated since Python 3.0, use inspect.signature() or inspect.getfullargspec()\n",
            "\n",
            "/usr/local/lib/python3.6/dist-packages/plotly/express/_doc.py:503: DeprecationWarning:\n",
            "\n",
            "inspect.getargspec() is deprecated since Python 3.0, use inspect.signature() or inspect.getfullargspec()\n",
            "\n",
            "/usr/local/lib/python3.6/dist-packages/plotly/express/_doc.py:503: DeprecationWarning:\n",
            "\n",
            "inspect.getargspec() is deprecated since Python 3.0, use inspect.signature() or inspect.getfullargspec()\n",
            "\n",
            "/usr/local/lib/python3.6/dist-packages/plotly/express/_doc.py:503: DeprecationWarning:\n",
            "\n",
            "inspect.getargspec() is deprecated since Python 3.0, use inspect.signature() or inspect.getfullargspec()\n",
            "\n",
            "/usr/local/lib/python3.6/dist-packages/plotly/express/_doc.py:503: DeprecationWarning:\n",
            "\n",
            "inspect.getargspec() is deprecated since Python 3.0, use inspect.signature() or inspect.getfullargspec()\n",
            "\n",
            "/usr/local/lib/python3.6/dist-packages/plotly/express/_doc.py:503: DeprecationWarning:\n",
            "\n",
            "inspect.getargspec() is deprecated since Python 3.0, use inspect.signature() or inspect.getfullargspec()\n",
            "\n",
            "/usr/local/lib/python3.6/dist-packages/plotly/express/_doc.py:503: DeprecationWarning:\n",
            "\n",
            "inspect.getargspec() is deprecated since Python 3.0, use inspect.signature() or inspect.getfullargspec()\n",
            "\n",
            "/usr/local/lib/python3.6/dist-packages/plotly/express/_doc.py:503: DeprecationWarning:\n",
            "\n",
            "inspect.getargspec() is deprecated since Python 3.0, use inspect.signature() or inspect.getfullargspec()\n",
            "\n",
            "/usr/local/lib/python3.6/dist-packages/plotly/express/_doc.py:503: DeprecationWarning:\n",
            "\n",
            "inspect.getargspec() is deprecated since Python 3.0, use inspect.signature() or inspect.getfullargspec()\n",
            "\n",
            "/usr/local/lib/python3.6/dist-packages/plotly/express/_doc.py:503: DeprecationWarning:\n",
            "\n",
            "inspect.getargspec() is deprecated since Python 3.0, use inspect.signature() or inspect.getfullargspec()\n",
            "\n",
            "/usr/local/lib/python3.6/dist-packages/plotly/express/_doc.py:503: DeprecationWarning:\n",
            "\n",
            "inspect.getargspec() is deprecated since Python 3.0, use inspect.signature() or inspect.getfullargspec()\n",
            "\n",
            "/usr/local/lib/python3.6/dist-packages/plotly/express/_doc.py:503: DeprecationWarning:\n",
            "\n",
            "inspect.getargspec() is deprecated since Python 3.0, use inspect.signature() or inspect.getfullargspec()\n",
            "\n",
            "/usr/local/lib/python3.6/dist-packages/plotly/express/_doc.py:503: DeprecationWarning:\n",
            "\n",
            "inspect.getargspec() is deprecated since Python 3.0, use inspect.signature() or inspect.getfullargspec()\n",
            "\n",
            "/usr/local/lib/python3.6/dist-packages/plotly/express/_doc.py:503: DeprecationWarning:\n",
            "\n",
            "inspect.getargspec() is deprecated since Python 3.0, use inspect.signature() or inspect.getfullargspec()\n",
            "\n",
            "/usr/local/lib/python3.6/dist-packages/plotly/express/_doc.py:503: DeprecationWarning:\n",
            "\n",
            "inspect.getargspec() is deprecated since Python 3.0, use inspect.signature() or inspect.getfullargspec()\n",
            "\n",
            "/usr/local/lib/python3.6/dist-packages/plotly/express/_doc.py:503: DeprecationWarning:\n",
            "\n",
            "inspect.getargspec() is deprecated since Python 3.0, use inspect.signature() or inspect.getfullargspec()\n",
            "\n",
            "/usr/local/lib/python3.6/dist-packages/plotly/express/_doc.py:503: DeprecationWarning:\n",
            "\n",
            "inspect.getargspec() is deprecated since Python 3.0, use inspect.signature() or inspect.getfullargspec()\n",
            "\n",
            "/usr/local/lib/python3.6/dist-packages/plotly/express/_doc.py:503: DeprecationWarning:\n",
            "\n",
            "inspect.getargspec() is deprecated since Python 3.0, use inspect.signature() or inspect.getfullargspec()\n",
            "\n",
            "/usr/local/lib/python3.6/dist-packages/plotly/express/_doc.py:503: DeprecationWarning:\n",
            "\n",
            "inspect.getargspec() is deprecated since Python 3.0, use inspect.signature() or inspect.getfullargspec()\n",
            "\n",
            "/usr/local/lib/python3.6/dist-packages/plotly/express/_doc.py:503: DeprecationWarning:\n",
            "\n",
            "inspect.getargspec() is deprecated since Python 3.0, use inspect.signature() or inspect.getfullargspec()\n",
            "\n",
            "/usr/local/lib/python3.6/dist-packages/plotly/express/_doc.py:503: DeprecationWarning:\n",
            "\n",
            "inspect.getargspec() is deprecated since Python 3.0, use inspect.signature() or inspect.getfullargspec()\n",
            "\n",
            "/usr/local/lib/python3.6/dist-packages/plotly/express/_doc.py:503: DeprecationWarning:\n",
            "\n",
            "inspect.getargspec() is deprecated since Python 3.0, use inspect.signature() or inspect.getfullargspec()\n",
            "\n",
            "/usr/local/lib/python3.6/dist-packages/plotly/express/_doc.py:503: DeprecationWarning:\n",
            "\n",
            "inspect.getargspec() is deprecated since Python 3.0, use inspect.signature() or inspect.getfullargspec()\n",
            "\n",
            "/usr/local/lib/python3.6/dist-packages/plotly/express/_doc.py:503: DeprecationWarning:\n",
            "\n",
            "inspect.getargspec() is deprecated since Python 3.0, use inspect.signature() or inspect.getfullargspec()\n",
            "\n",
            "/usr/local/lib/python3.6/dist-packages/plotly/express/_doc.py:503: DeprecationWarning:\n",
            "\n",
            "inspect.getargspec() is deprecated since Python 3.0, use inspect.signature() or inspect.getfullargspec()\n",
            "\n",
            "/usr/local/lib/python3.6/dist-packages/plotly/express/_doc.py:503: DeprecationWarning:\n",
            "\n",
            "inspect.getargspec() is deprecated since Python 3.0, use inspect.signature() or inspect.getfullargspec()\n",
            "\n",
            "\u001b[34m  Stopping...\u001b[0m\n",
            "\u001b[34m  Stopping...\u001b[0m\n"
          ],
          "name": "stdout"
        }
      ]
    }
  ]
}